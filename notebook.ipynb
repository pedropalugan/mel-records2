{
 "cells": [
  {
   "cell_type": "markdown",
   "id": "41dbb01f",
   "metadata": {},
   "source": [
    "# Melodia Records - Análise exploratória\n",
    "Este notebook tem como objetivo apresentar a análise exploratória realizada sobre a base de dados fornecida pela empresa. Ao longo do documento, são descritas e executadas as principais etapas de compreensão, tratamento e visualização dos dados.\n",
    "## 1- Importando as 3 bases e bibiotecas "
   ]
  },
  {
   "cell_type": "code",
   "execution_count": 1,
   "id": "dcc7a57f",
   "metadata": {},
   "outputs": [],
   "source": [
    "import pandas as pd\n",
    "import plotly.express as px\n",
    "import matplotlib.pyplot as plt\n",
    "import numpy as np\n",
    "import seaborn as sns\n",
    "from ast import literal_eval\n",
    "db_tracks = pd.read_csv('spotify_tracks.csv')\n",
    "artistas_df = pd.read_csv('spotify_artists.csv')\n",
    "db_albuns = pd.read_csv('spotify_albums.csv')"
   ]
  },
  {
   "cell_type": "markdown",
   "id": "2cf71c3a",
   "metadata": {},
   "source": [
    "### 1.1- Pré-processamento de db_tracks"
   ]
  },
  {
   "cell_type": "code",
   "execution_count": 2,
   "id": "cfcff25f",
   "metadata": {},
   "outputs": [
    {
     "data": {
      "text/plain": [
       "Unnamed: 0           0\n",
       "album_id             0\n",
       "analysis_url         0\n",
       "artists_id           0\n",
       "available_markets    0\n",
       "href                 0\n",
       "name                 0\n",
       "playlist             0\n",
       "popularity           0\n",
       "preview_url          0\n",
       "dtype: int64"
      ]
     },
     "execution_count": 2,
     "metadata": {},
     "output_type": "execute_result"
    }
   ],
   "source": [
    "#Verificando dados faltantes\n",
    "db_tracks.isnull().sum()"
   ]
  },
  {
   "cell_type": "code",
   "execution_count": 3,
   "id": "433c437a",
   "metadata": {},
   "outputs": [],
   "source": [
    "#Retirando colunas que não são necessárias para a análise\n",
    "db_tracks_backup = db_tracks\n",
    "db_tracks.drop(['Unnamed: 0','analysis_url', 'href', 'preview_url'], axis=1, inplace=True)"
   ]
  },
  {
   "cell_type": "markdown",
   "id": "46342a0f",
   "metadata": {},
   "source": [
    "### 1.2- Pré-processamento de artist_df"
   ]
  },
  {
   "cell_type": "code",
   "execution_count": 4,
   "id": "ff3f926b",
   "metadata": {},
   "outputs": [
    {
     "data": {
      "text/plain": [
       "Unnamed: 0           0\n",
       "artist_popularity    0\n",
       "followers            0\n",
       "genres               0\n",
       "id                   0\n",
       "name                 1\n",
       "track_id             0\n",
       "track_name_prev      0\n",
       "type                 0\n",
       "dtype: int64"
      ]
     },
     "execution_count": 4,
     "metadata": {},
     "output_type": "execute_result"
    }
   ],
   "source": [
    "#Verificando dados faltantes\n",
    "artistas_df.isnull().sum()"
   ]
  },
  {
   "cell_type": "code",
   "execution_count": 5,
   "id": "4c6686f1",
   "metadata": {},
   "outputs": [],
   "source": [
    "# Remover linhas com valores ausentes\n",
    "artistas_df = artistas_df.dropna()  "
   ]
  },
  {
   "cell_type": "code",
   "execution_count": 6,
   "id": "d3e75c2d",
   "metadata": {},
   "outputs": [],
   "source": [
    "#Retirando colunas que não são necessárias para a análise\n",
    "artistas_df = artistas_df.drop('Unnamed: 0', axis=1)  \n",
    "artistas_df = artistas_df.drop('type', axis=1)"
   ]
  },
  {
   "cell_type": "code",
   "execution_count": 7,
   "id": "b9ba8d39",
   "metadata": {},
   "outputs": [
    {
     "data": {
      "text/plain": [
       "np.int64(23539)"
      ]
     },
     "execution_count": 7,
     "metadata": {},
     "output_type": "execute_result"
    }
   ],
   "source": [
    "(artistas_df['genres'] == '[]').sum() # Verifica se há gêneros vazios"
   ]
  },
  {
   "cell_type": "markdown",
   "id": "b3909b6c",
   "metadata": {},
   "source": [
    "Nota-se a presença de uma quantidade elevada de gêneros vazios. Essa coluna será completada futuramente após o merge das 3 bases de dados"
   ]
  },
  {
   "cell_type": "markdown",
   "id": "40b26b6b",
   "metadata": {},
   "source": [
    "### 1.3- Pré-processamento de db_albuns"
   ]
  },
  {
   "cell_type": "code",
   "execution_count": 8,
   "id": "801503c4",
   "metadata": {},
   "outputs": [
    {
     "data": {
      "text/plain": [
       "Unnamed: 0                0\n",
       "album_type                0\n",
       "artist_id                 0\n",
       "available_markets         0\n",
       "external_urls             0\n",
       "href                      0\n",
       "id                        0\n",
       "images                    0\n",
       "name                      0\n",
       "release_date              0\n",
       "release_date_precision    0\n",
       "total_tracks              0\n",
       "track_id                  0\n",
       "track_name_prev           0\n",
       "uri                       0\n",
       "type                      0\n",
       "dtype: int64"
      ]
     },
     "execution_count": 8,
     "metadata": {},
     "output_type": "execute_result"
    }
   ],
   "source": [
    "#Verificando dados faltantes\n",
    "db_albuns.isnull().sum() "
   ]
  },
  {
   "cell_type": "code",
   "execution_count": 9,
   "id": "7f790ace",
   "metadata": {},
   "outputs": [],
   "source": [
    "#Retirando colunas que não são necessárias para a análise\n",
    "db_albuns.drop(['Unnamed: 0','href', 'external_urls', 'images', 'uri'], axis=1, inplace=True)"
   ]
  },
  {
   "cell_type": "markdown",
   "id": "04620898",
   "metadata": {},
   "source": [
    "## 2- Merge das 3 bases de dados"
   ]
  },
  {
   "cell_type": "code",
   "execution_count": 10,
   "id": "39206468",
   "metadata": {},
   "outputs": [
    {
     "data": {
      "text/html": [
       "<div>\n",
       "<style scoped>\n",
       "    .dataframe tbody tr th:only-of-type {\n",
       "        vertical-align: middle;\n",
       "    }\n",
       "\n",
       "    .dataframe tbody tr th {\n",
       "        vertical-align: top;\n",
       "    }\n",
       "\n",
       "    .dataframe thead th {\n",
       "        text-align: right;\n",
       "    }\n",
       "</style>\n",
       "<table border=\"1\" class=\"dataframe\">\n",
       "  <thead>\n",
       "    <tr style=\"text-align: right;\">\n",
       "      <th></th>\n",
       "      <th>album_type</th>\n",
       "      <th>artist_id</th>\n",
       "      <th>release_date</th>\n",
       "      <th>release_date_precision</th>\n",
       "      <th>total_tracks</th>\n",
       "      <th>track_id</th>\n",
       "      <th>artist_popularity</th>\n",
       "      <th>followers</th>\n",
       "      <th>genres</th>\n",
       "      <th>name_y</th>\n",
       "      <th>album_id</th>\n",
       "      <th>name</th>\n",
       "      <th>playlist</th>\n",
       "      <th>popularity</th>\n",
       "    </tr>\n",
       "  </thead>\n",
       "  <tbody>\n",
       "    <tr>\n",
       "      <th>0</th>\n",
       "      <td>single</td>\n",
       "      <td>3DiDSECUqqY1AuBP8qtaIa</td>\n",
       "      <td>2019-02-08</td>\n",
       "      <td>day</td>\n",
       "      <td>6</td>\n",
       "      <td>2iejTMy9XZ8Gaae0aQ2yl0</td>\n",
       "      <td>79</td>\n",
       "      <td>5946074</td>\n",
       "      <td>['hip pop', 'neo soul', 'pop', 'r&amp;b', 'urban c...</td>\n",
       "      <td>Alicia Keys</td>\n",
       "      <td>1gAM7M4rBwEbSPeAQR2nx1</td>\n",
       "      <td>If I Ain't Got You - Radio Edit</td>\n",
       "      <td>Chillout Session</td>\n",
       "      <td>41.0</td>\n",
       "    </tr>\n",
       "    <tr>\n",
       "      <th>1</th>\n",
       "      <td>album</td>\n",
       "      <td>6s1pCNXcbdtQJlsnM1hRIA</td>\n",
       "      <td>2019-03-01</td>\n",
       "      <td>day</td>\n",
       "      <td>8</td>\n",
       "      <td>1WQfghEjszJJ4H8MAWrQ2C</td>\n",
       "      <td>57</td>\n",
       "      <td>135831</td>\n",
       "      <td>['classical', 'compositional ambient', 'russia...</td>\n",
       "      <td>Dmitri Shostakovich</td>\n",
       "      <td>4KfJZV7WfolYlxBzOTo66s</td>\n",
       "      <td>Symphony No. 5 in D Minor, Op. 48: II Allegretto</td>\n",
       "      <td>Classical New Releases: Spotify Picks</td>\n",
       "      <td>37.0</td>\n",
       "    </tr>\n",
       "    <tr>\n",
       "      <th>2</th>\n",
       "      <td>single</td>\n",
       "      <td>5YjfNaHq05WrwldRe1QSBc</td>\n",
       "      <td>2019-03-14</td>\n",
       "      <td>day</td>\n",
       "      <td>1</td>\n",
       "      <td>3jJKj4QTK3v18ZSwpk7AcV</td>\n",
       "      <td>18</td>\n",
       "      <td>118</td>\n",
       "      <td>[]</td>\n",
       "      <td>Brandon Mints</td>\n",
       "      <td>7nLYY7uAVUb57kpd7tZxnS</td>\n",
       "      <td>Take My Bass</td>\n",
       "      <td>Bangers</td>\n",
       "      <td>4.0</td>\n",
       "    </tr>\n",
       "    <tr>\n",
       "      <th>3</th>\n",
       "      <td>single</td>\n",
       "      <td>2G9Vc16JCpnZmK4uGH46Fa</td>\n",
       "      <td>2016-11-16</td>\n",
       "      <td>day</td>\n",
       "      <td>1</td>\n",
       "      <td>1xGtDafUZbHyYC3Xarcbrj</td>\n",
       "      <td>24</td>\n",
       "      <td>309</td>\n",
       "      <td>[]</td>\n",
       "      <td>DØ CHEF DØ</td>\n",
       "      <td>6p20Rt4x2Qn5mUMRi1s6pj</td>\n",
       "      <td>Hypnotizing (Are U)</td>\n",
       "      <td>Smukfest 2019</td>\n",
       "      <td>27.0</td>\n",
       "    </tr>\n",
       "    <tr>\n",
       "      <th>4</th>\n",
       "      <td>single</td>\n",
       "      <td>2dwM9OcE4c3Ph1UBINSodx</td>\n",
       "      <td>2018-07-20</td>\n",
       "      <td>day</td>\n",
       "      <td>1</td>\n",
       "      <td>0gWtsXvXOzAT6FtM3ur8in</td>\n",
       "      <td>24</td>\n",
       "      <td>1394</td>\n",
       "      <td>[]</td>\n",
       "      <td>Alejo García</td>\n",
       "      <td>1XeoOqC1q7U2iyLEQJ64cu</td>\n",
       "      <td>Sunshine</td>\n",
       "      <td>Nuevo Macondo</td>\n",
       "      <td>30.0</td>\n",
       "    </tr>\n",
       "  </tbody>\n",
       "</table>\n",
       "</div>"
      ],
      "text/plain": [
       "  album_type               artist_id release_date release_date_precision  \\\n",
       "0     single  3DiDSECUqqY1AuBP8qtaIa   2019-02-08                    day   \n",
       "1      album  6s1pCNXcbdtQJlsnM1hRIA   2019-03-01                    day   \n",
       "2     single  5YjfNaHq05WrwldRe1QSBc   2019-03-14                    day   \n",
       "3     single  2G9Vc16JCpnZmK4uGH46Fa   2016-11-16                    day   \n",
       "4     single  2dwM9OcE4c3Ph1UBINSodx   2018-07-20                    day   \n",
       "\n",
       "   total_tracks                track_id  artist_popularity  followers  \\\n",
       "0             6  2iejTMy9XZ8Gaae0aQ2yl0                 79    5946074   \n",
       "1             8  1WQfghEjszJJ4H8MAWrQ2C                 57     135831   \n",
       "2             1  3jJKj4QTK3v18ZSwpk7AcV                 18        118   \n",
       "3             1  1xGtDafUZbHyYC3Xarcbrj                 24        309   \n",
       "4             1  0gWtsXvXOzAT6FtM3ur8in                 24       1394   \n",
       "\n",
       "                                              genres               name_y  \\\n",
       "0  ['hip pop', 'neo soul', 'pop', 'r&b', 'urban c...          Alicia Keys   \n",
       "1  ['classical', 'compositional ambient', 'russia...  Dmitri Shostakovich   \n",
       "2                                                 []        Brandon Mints   \n",
       "3                                                 []           DØ CHEF DØ   \n",
       "4                                                 []         Alejo García   \n",
       "\n",
       "                 album_id                                              name  \\\n",
       "0  1gAM7M4rBwEbSPeAQR2nx1                   If I Ain't Got You - Radio Edit   \n",
       "1  4KfJZV7WfolYlxBzOTo66s  Symphony No. 5 in D Minor, Op. 48: II Allegretto   \n",
       "2  7nLYY7uAVUb57kpd7tZxnS                                      Take My Bass   \n",
       "3  6p20Rt4x2Qn5mUMRi1s6pj                               Hypnotizing (Are U)   \n",
       "4  1XeoOqC1q7U2iyLEQJ64cu                                          Sunshine   \n",
       "\n",
       "                                playlist  popularity  \n",
       "0                       Chillout Session        41.0  \n",
       "1  Classical New Releases: Spotify Picks        37.0  \n",
       "2                                Bangers         4.0  \n",
       "3                          Smukfest 2019        27.0  \n",
       "4                          Nuevo Macondo        30.0  "
      ]
     },
     "execution_count": 10,
     "metadata": {},
     "output_type": "execute_result"
    }
   ],
   "source": [
    "cols_drop_albuns = ['Unnamed: 0', 'external_urls', 'href', 'uri', 'type', 'available_markets', 'images', 'track_name_prev']\n",
    "cols_drop_artists = ['Unnamed: 0', 'type', 'track_id', 'track_name_prev']\n",
    "cols_drop_tracks = ['Unnamed: 0', 'analysis_url', 'href', 'available_markets', 'preview_url']\n",
    "\n",
    "db_albuns = db_albuns.drop(columns=cols_drop_albuns, errors='ignore')\n",
    "db_artists = artistas_df.drop(columns=cols_drop_artists, errors='ignore')\n",
    "db_tracks = db_tracks.drop(columns=cols_drop_tracks, errors='ignore')\n",
    "\n",
    "merge1 = pd.merge(db_albuns, db_artists, left_on='artist_id', right_on='id', how='inner')\n",
    "\n",
    "db_final = pd.merge(merge1, db_tracks, left_on='id_x', right_on='album_id', how='inner')\n",
    "\n",
    "db_final.drop(columns=['id_x', 'name_x', 'id_y', 'artists_id'], inplace=True)\n",
    "\n",
    "db_final.head()\n"
   ]
  },
  {
   "cell_type": "markdown",
   "id": "73859452",
   "metadata": {},
   "source": [
    "### 2.1- Completar gêneros faltantes\n",
    "\n",
    "Durante a análise, foi identificada a presença de valores ausentes na coluna de gêneros. Para preservar a consistência da base de dados, foi aplicada uma estratégia para imputação desses valores.\n",
    "\n",
    "A abordagem adotada consistiu em, para cada linha com registros de gêneros nulos, buscar outras entradas correspondentes ao mesmo artista / album / data de lançamento que já continham informações válidas de gênero. Essas informações existentes foram então replicadas de forma coerente para as linhas em que o gênero se encontrava ausente."
   ]
  },
  {
   "cell_type": "code",
   "execution_count": 11,
   "id": "f74befb4",
   "metadata": {},
   "outputs": [
    {
     "name": "stderr",
     "output_type": "stream",
     "text": [
      "/var/folders/_l/4nhps33j6z54025qpbx1zqh40000gn/T/ipykernel_27369/606587256.py:3: FutureWarning: Series.fillna with 'method' is deprecated and will raise in a future version. Use obj.ffill() or obj.bfill() instead.\n",
      "  db_final['genres'] = db_final.groupby('album_id')['genres'].transform(lambda x: x.fillna(method='ffill').fillna(method='bfill'))\n",
      "/var/folders/_l/4nhps33j6z54025qpbx1zqh40000gn/T/ipykernel_27369/606587256.py:3: FutureWarning: Downcasting object dtype arrays on .fillna, .ffill, .bfill is deprecated and will change in a future version. Call result.infer_objects(copy=False) instead. To opt-in to the future behavior, set `pd.set_option('future.no_silent_downcasting', True)`\n",
      "  db_final['genres'] = db_final.groupby('album_id')['genres'].transform(lambda x: x.fillna(method='ffill').fillna(method='bfill'))\n",
      "/var/folders/_l/4nhps33j6z54025qpbx1zqh40000gn/T/ipykernel_27369/606587256.py:5: FutureWarning: Series.fillna with 'method' is deprecated and will raise in a future version. Use obj.ffill() or obj.bfill() instead.\n",
      "  db_final['genres'] = db_final.groupby('name_y')['genres'].transform(lambda x: x.fillna(method='ffill').fillna(method='bfill'))\n",
      "/var/folders/_l/4nhps33j6z54025qpbx1zqh40000gn/T/ipykernel_27369/606587256.py:5: FutureWarning: Downcasting object dtype arrays on .fillna, .ffill, .bfill is deprecated and will change in a future version. Call result.infer_objects(copy=False) instead. To opt-in to the future behavior, set `pd.set_option('future.no_silent_downcasting', True)`\n",
      "  db_final['genres'] = db_final.groupby('name_y')['genres'].transform(lambda x: x.fillna(method='ffill').fillna(method='bfill'))\n",
      "/var/folders/_l/4nhps33j6z54025qpbx1zqh40000gn/T/ipykernel_27369/606587256.py:7: FutureWarning: Series.fillna with 'method' is deprecated and will raise in a future version. Use obj.ffill() or obj.bfill() instead.\n",
      "  db_final['genres'] = db_final.groupby('name')['genres'].transform(lambda x: x.fillna(method='ffill').fillna(method='bfill'))\n",
      "/var/folders/_l/4nhps33j6z54025qpbx1zqh40000gn/T/ipykernel_27369/606587256.py:7: FutureWarning: Downcasting object dtype arrays on .fillna, .ffill, .bfill is deprecated and will change in a future version. Call result.infer_objects(copy=False) instead. To opt-in to the future behavior, set `pd.set_option('future.no_silent_downcasting', True)`\n",
      "  db_final['genres'] = db_final.groupby('name')['genres'].transform(lambda x: x.fillna(method='ffill').fillna(method='bfill'))\n",
      "/var/folders/_l/4nhps33j6z54025qpbx1zqh40000gn/T/ipykernel_27369/606587256.py:9: FutureWarning: Series.fillna with 'method' is deprecated and will raise in a future version. Use obj.ffill() or obj.bfill() instead.\n",
      "  db_final['genres'] = db_final.groupby('artist_id')['genres'].transform(lambda x: x.fillna(method='ffill').fillna(method='bfill'))\n",
      "/var/folders/_l/4nhps33j6z54025qpbx1zqh40000gn/T/ipykernel_27369/606587256.py:9: FutureWarning: Downcasting object dtype arrays on .fillna, .ffill, .bfill is deprecated and will change in a future version. Call result.infer_objects(copy=False) instead. To opt-in to the future behavior, set `pd.set_option('future.no_silent_downcasting', True)`\n",
      "  db_final['genres'] = db_final.groupby('artist_id')['genres'].transform(lambda x: x.fillna(method='ffill').fillna(method='bfill'))\n",
      "/var/folders/_l/4nhps33j6z54025qpbx1zqh40000gn/T/ipykernel_27369/606587256.py:11: FutureWarning: Series.fillna with 'method' is deprecated and will raise in a future version. Use obj.ffill() or obj.bfill() instead.\n",
      "  db_final['genres'] = db_final.groupby('release_date')['genres'].transform(lambda x: x.fillna(method='ffill').fillna(method='bfill'))\n",
      "/var/folders/_l/4nhps33j6z54025qpbx1zqh40000gn/T/ipykernel_27369/606587256.py:11: FutureWarning: Downcasting object dtype arrays on .fillna, .ffill, .bfill is deprecated and will change in a future version. Call result.infer_objects(copy=False) instead. To opt-in to the future behavior, set `pd.set_option('future.no_silent_downcasting', True)`\n",
      "  db_final['genres'] = db_final.groupby('release_date')['genres'].transform(lambda x: x.fillna(method='ffill').fillna(method='bfill'))\n"
     ]
    }
   ],
   "source": [
    "db_final['genres'] = db_final['genres'].apply(lambda x: np.nan if x == '[]' else x)\n",
    "\n",
    "db_final['genres'] = db_final.groupby('album_id')['genres'].transform(lambda x: x.fillna(method='ffill').fillna(method='bfill'))\n",
    "\n",
    "db_final['genres'] = db_final.groupby('name_y')['genres'].transform(lambda x: x.fillna(method='ffill').fillna(method='bfill'))\n",
    "\n",
    "db_final['genres'] = db_final.groupby('name')['genres'].transform(lambda x: x.fillna(method='ffill').fillna(method='bfill'))\n",
    "\n",
    "db_final['genres'] = db_final.groupby('artist_id')['genres'].transform(lambda x: x.fillna(method='ffill').fillna(method='bfill'))\n",
    "\n",
    "db_final['genres'] = db_final.groupby('release_date')['genres'].transform(lambda x: x.fillna(method='ffill').fillna(method='bfill'))\n"
   ]
  },
  {
   "cell_type": "code",
   "execution_count": 12,
   "id": "85ee4478",
   "metadata": {},
   "outputs": [
    {
     "name": "stdout",
     "output_type": "stream",
     "text": [
      "288\n"
     ]
    }
   ],
   "source": [
    "print(db_final['genres'].isna().sum())"
   ]
  },
  {
   "cell_type": "markdown",
   "id": "16c6f680",
   "metadata": {},
   "source": [
    "## 3- Gráficos e insights\n"
   ]
  },
  {
   "cell_type": "markdown",
   "id": "78e0e176",
   "metadata": {},
   "source": [
    "### 3.1 - Quantidade de albuns por década e por ano"
   ]
  },
  {
   "cell_type": "code",
   "execution_count": 13,
   "id": "7dac244e",
   "metadata": {},
   "outputs": [
    {
     "data": {
      "image/png": "[encoded data removed]",
      "text/plain": [
       "<Figure size 640x480 with 1 Axes>"
      ]
     },
     "metadata": {},
     "output_type": "display_data"
    }
   ],
   "source": [
    "db_albuns['release_date'] = pd.to_datetime(db_albuns['release_date'],format='mixed' ,errors='coerce').dt.year\n",
    "db_albuns['decada'] = (db_albuns['release_date']//10) * 10\n",
    "\n",
    "plt.hist(db_albuns['decada'])\n",
    "plt.title('Quantidade de álbuns por decada')\n",
    "plt.show()"
   ]
  },
  {
   "cell_type": "markdown",
   "id": "2e15bc97",
   "metadata": {},
   "source": [
    "### 3.2 - Quantidade de album, single e compilation"
   ]
  },
  {
   "cell_type": "code",
   "execution_count": 14,
   "id": "fed3b27c",
   "metadata": {},
   "outputs": [
    {
     "data": {
      "image/png": "[encoded data removed]",
      "text/plain": [
       "<Figure size 640x480 with 1 Axes>"
      ]
     },
     "metadata": {},
     "output_type": "display_data"
    }
   ],
   "source": [
    "plt.hist(db_albuns['album_type'])\n",
    "plt.title('Quantidade album/single/compilation')\n",
    "plt.show()"
   ]
  },
  {
   "cell_type": "markdown",
   "id": "d4b6e859",
   "metadata": {},
   "source": [
    "### 3.3 - Distribuição da popularidade de artista"
   ]
  },
  {
   "cell_type": "code",
   "execution_count": 15,
   "id": "f7090e1d",
   "metadata": {},
   "outputs": [
    {
     "data": {
      "image/png": "[encoded data removed]",
      "text/plain": [
       "<Figure size 640x480 with 1 Axes>"
      ]
     },
     "metadata": {},
     "output_type": "display_data"
    }
   ],
   "source": [
    "plt.hist(artistas_df['artist_popularity'])\n",
    "plt.title('Distribuição de Popularidade dos Artistas')\n",
    "plt.xlabel('Popularidade') \n",
    "plt.ylabel('Frequência')\n",
    "plt.show()"
   ]
  },
  {
   "cell_type": "markdown",
   "id": "367066c7",
   "metadata": {},
   "source": [
    "### 3.4 - Distribuição da popularidade de música"
   ]
  },
  {
   "cell_type": "code",
   "execution_count": 16,
   "id": "df11a825",
   "metadata": {},
   "outputs": [
    {
     "data": {
      "image/png": "[encoded data removed]",
      "text/plain": [
       "<Figure size 640x480 with 1 Axes>"
      ]
     },
     "metadata": {},
     "output_type": "display_data"
    }
   ],
   "source": [
    "plt.hist(db_tracks['popularity'])\n",
    "plt.title('Musica por popularidade')\n",
    "plt.ylabel('Frequência')\n",
    "plt.show()"
   ]
  },
  {
   "cell_type": "markdown",
   "id": "2948b80d",
   "metadata": {},
   "source": [
    "### 3.5 - Popularidade por tipo de lançamento"
   ]
  },
  {
   "cell_type": "code",
   "execution_count": 17,
   "id": "d9f6e848",
   "metadata": {},
   "outputs": [
    {
     "data": {
      "image/png": "[encoded data removed]",
      "text/plain": [
       "<Figure size 640x480 with 1 Axes>"
      ]
     },
     "metadata": {},
     "output_type": "display_data"
    }
   ],
   "source": [
    "popularidade_por_album_type = db_final.groupby('album_type')['popularity'].mean().dropna()\n",
    "popularidade_por_album_type.plot(kind='pie', autopct='%1.1f%%', startangle=90, shadow=True) \n",
    "\n",
    "plt.show()"
   ]
  },
  {
   "cell_type": "markdown",
   "id": "76e0728d",
   "metadata": {},
   "source": [
    "### 3.6 - Popularidade de artista por seguidores"
   ]
  },
  {
   "cell_type": "code",
   "execution_count": null,
   "id": "38b86a68",
   "metadata": {},
   "outputs": [
    {
     "data": {
      "image/png": "[encoded data removed]",
      "text/plain": [
       "<Figure size 1000x600 with 1 Axes>"
      ]
     },
     "metadata": {},
     "output_type": "display_data"
    }
   ],
   "source": [
    "\n",
    "plt.figure(figsize=(10, 6))\n",
    "plt.scatter(db_final['followers'], db_final['artist_popularity'], color='blue', alpha=0.5)\n",
    "\n",
    "\n",
    "plt.title('Popularidade vs Seguidores dos Artistas')\n",
    "plt.xlabel('Número de Seguidores')\n",
    "plt.ylabel('Popularidade')\n",
    "\n",
    "plt.show()\n"
   ]
  },
  {
   "cell_type": "markdown",
   "id": "6752395f",
   "metadata": {},
   "source": [
    "### 3.7 - Popularidade por gênero"
   ]
  },
  {
   "cell_type": "code",
   "execution_count": null,
   "id": "5d6e2980",
   "metadata": {},
   "outputs": [
    {
     "data": {
      "image/png": "[encoded data removed]",
      "text/plain": [
       "<Figure size 640x480 with 1 Axes>"
      ]
     },
     "metadata": {},
     "output_type": "display_data"
    }
   ],
   "source": [
    "db_final['genres'] = db_final['genres'].apply(lambda x: literal_eval(x) if isinstance(x, str) else x)\n",
    "\n",
    "genero_pesado = {}\n",
    "\n",
    "for _, row in db_final.iterrows():\n",
    "    generos = row['genres']\n",
    "    peso = row['popularity']\n",
    "    \n",
    "    # Pula se a coluna genres não for lista ou se a popularidade for nula\n",
    "    if not isinstance(generos, list) or pd.isna(peso):\n",
    "        continue\n",
    "    \n",
    "    for genero in generos:\n",
    "        genero_pesado[genero] = genero_pesado.get(genero, 0) + peso\n",
    "\n",
    "genero_series = pd.Series(genero_pesado).sort_values(ascending=False)\n",
    "\n",
    "top_10_generos = genero_series.head(7)\n",
    "top_10_generos.plot(kind='bar')\n",
    "plt.ylabel('Popularidade')\n",
    "plt.xlabel('Gênero')\n",
    "plt.title('Popularidade por gênero')\n",
    "plt.show()"
   ]
  },
  {
   "cell_type": "markdown",
   "id": "9c3fcaf5",
   "metadata": {},
   "source": [
    "### 3.8 - Popularidade por tempo"
   ]
  },
  {
   "cell_type": "code",
   "execution_count": null,
   "id": "c45cfd3c",
   "metadata": {},
   "outputs": [
    {
     "data": {
      "image/png": "[encoded data removed]",
      "text/plain": [
       "<Figure size 640x480 with 1 Axes>"
      ]
     },
     "metadata": {},
     "output_type": "display_data"
    }
   ],
   "source": [
    "db_final['release_date'] = pd.to_datetime(db_final['release_date'], errors='coerce')\n",
    "db_final['release_year'] = db_final['release_date'].dt.year\n",
    "\n",
    "\n",
    "popularidade_por_ano = db_final.groupby('release_year')['popularity'].mean().dropna()\n",
    "\n",
    "pop_acumulada = popularidade_por_ano.cumsum()\n",
    "\n",
    "pop_acumulada.plot(kind='line')\n",
    "plt.fill_between(pop_acumulada.index, pop_acumulada.values, color='skyblue')\n",
    "plt.ylabel('Popularidade')\n",
    "plt.xlabel('Tempo')\n",
    "plt.title('Popularidade por tempo')\n",
    "plt.show()"
   ]
  },
  {
   "cell_type": "markdown",
   "id": "623d919e",
   "metadata": {},
   "source": [
    "### 3.9 - Quantidade de faixas por popularidade"
   ]
  },
  {
   "cell_type": "code",
   "execution_count": null,
   "id": "38686001",
   "metadata": {},
   "outputs": [
    {
     "data": {
      "image/png": "[encoded data removed]",
      "text/plain": [
       "<Figure size 640x480 with 1 Axes>"
      ]
     },
     "metadata": {},
     "output_type": "display_data"
    }
   ],
   "source": [
    "popularidade_por_qtd = db_final.groupby('popularity')['total_tracks'].mean().dropna()\n",
    "\n",
    "popularidade_por_qtd.plot(kind='line')\n",
    "plt.ylabel('total_tracks')\n",
    "plt.show()"
   ]
  },
  {
   "cell_type": "code",
   "execution_count": null,
   "id": "ac7d0a74",
   "metadata": {},
   "outputs": [],
   "source": [
    "pop_artistas = db_final[db_final['genres'].apply(lambda x: isinstance(x, list) and 'pop' in [g.lower() for g in x])]\n",
    "dance_pop_artistas = db_final[db_final['genres'].apply(lambda x: isinstance(x, list) and 'dance pop' in [g.lower() for g in x])]\n",
    "latin_artistas = db_final[db_final['genres'].apply(lambda x: isinstance(x, list) and 'latin' in [g.lower() for g in x])]\n",
    "\n",
    "pop_ranking = pop_artistas.groupby('name_y')['artist_popularity'].mean().sort_values(ascending=True)\n",
    "dancepop_ranking = dance_pop_artistas.groupby('name_y')['artist_popularity'].mean().sort_values(ascending=True)\n",
    "latin_ranking = latin_artistas.groupby('name_y')['artist_popularity'].mean().sort_values(ascending=True)\n"
   ]
  },
  {
   "cell_type": "markdown",
   "id": "f2a0523b",
   "metadata": {},
   "source": [
    "### 3.10 - Top 10 Artistas de Pop"
   ]
  },
  {
   "cell_type": "code",
   "execution_count": null,
   "id": "0cd9d0e8",
   "metadata": {},
   "outputs": [
    {
     "data": {
      "image/png": "[encoded data removed]",
      "text/plain": [
       "<Figure size 640x480 with 1 Axes>"
      ]
     },
     "metadata": {},
     "output_type": "display_data"
    }
   ],
   "source": [
    "pop_ranking.tail(10).plot(kind='barh')\n",
    "plt.title('Top Pop artistas')\n",
    "plt.ylabel('Artistas')\n",
    "plt.xlabel('Popularidade')\n",
    "plt.show()"
   ]
  },
  {
   "cell_type": "markdown",
   "id": "7c4153a7",
   "metadata": {},
   "source": [
    "### 3.11 - Top 10 Artistas de Dance Pop"
   ]
  },
  {
   "cell_type": "code",
   "execution_count": null,
   "id": "11eebadf",
   "metadata": {},
   "outputs": [
    {
     "data": {
      "image/png": "[encoded data removed]",
      "text/plain": [
       "<Figure size 640x480 with 1 Axes>"
      ]
     },
     "metadata": {},
     "output_type": "display_data"
    }
   ],
   "source": [
    "dancepop_ranking.tail(10).plot(kind='barh')\n",
    "plt.title('Top Dance Pop Artistas')\n",
    "plt.ylabel('Artistas')\n",
    "plt.xlabel('Popularidade')\n",
    "plt.show()"
   ]
  },
  {
   "cell_type": "markdown",
   "id": "0198d29b",
   "metadata": {},
   "source": [
    "### 3.12 - Top 10 Artistas de Latino"
   ]
  },
  {
   "cell_type": "code",
   "execution_count": null,
   "id": "e2bed4ef",
   "metadata": {},
   "outputs": [
    {
     "data": {
      "image/png": "[encoded data removed]",
      "text/plain": [
       "<Figure size 640x480 with 1 Axes>"
      ]
     },
     "metadata": {},
     "output_type": "display_data"
    }
   ],
   "source": [
    "latin_ranking.tail(10).plot(kind='barh')\n",
    "plt.title('Top Latin artistas')\n",
    "plt.ylabel('Artistas')\n",
    "plt.xlabel('Popularidade')\n",
    "plt.show()"
   ]
  },
  {
   "cell_type": "markdown",
   "id": "161a0e8b",
   "metadata": {},
   "source": [
    "### 3.13 - Top 10 Artistas mais seguidos"
   ]
  },
  {
   "cell_type": "code",
   "execution_count": null,
   "id": "5bed6286",
   "metadata": {},
   "outputs": [
    {
     "data": {
      "application/vnd.plotly.v1+json": {
       "config": {
        "plotlyServerURL": "https://plot.ly"
       },
       "data": [
        {
         "hovertemplate": "Número de Seguidores=%{x}<br>Artista=%{y}<extra></extra>",
         "legendgroup": "",
         "marker": {
          "color": "#636efa",
          "pattern": {
           "shape": ""
          }
         },
         "name": "",
         "orientation": "h",
         "showlegend": false,
         "textposition": "auto",
         "type": "bar",
         "x": {
          "bdata": "XS56Aq2jNAGlIhoBUMsSAQqXEAFnZ/EAHy/vAG3T6gBrCOIAuDrfAA==",
          "dtype": "i4"
         },
         "xaxis": "x",
         "y": [
          "Ed Sheeran",
          "Bruno Mars",
          "Coldplay",
          "David Guetta",
          "Beyoncé",
          "Calvin Harris",
          "Shakira",
          "Ozuna",
          "Maluma",
          "Adele"
         ],
         "yaxis": "y"
        }
       ],
       "layout": {
        "barmode": "relative",
        "legend": {
         "tracegroupgap": 0
        },
        "template": {
         "data": {
          "bar": [
           {
            "error_x": {
             "color": "#2a3f5f"
            },
            "error_y": {
             "color": "#2a3f5f"
            },
            "marker": {
             "line": {
              "color": "white",
              "width": 0.5
             },
             "pattern": {
              "fillmode": "overlay",
              "size": 10,
              "solidity": 0.2
             }
            },
            "type": "bar"
           }
          ],
          "barpolar": [
           {
            "marker": {
             "line": {
              "color": "white",
              "width": 0.5
             },
             "pattern": {
              "fillmode": "overlay",
              "size": 10,
              "solidity": 0.2
             }
            },
            "type": "barpolar"
           }
          ],
          "carpet": [
           {
            "aaxis": {
             "endlinecolor": "#2a3f5f",
             "gridcolor": "#C8D4E3",
             "linecolor": "#C8D4E3",
             "minorgridcolor": "#C8D4E3",
             "startlinecolor": "#2a3f5f"
            },
            "baxis": {
             "endlinecolor": "#2a3f5f",
             "gridcolor": "#C8D4E3",
             "linecolor": "#C8D4E3",
             "minorgridcolor": "#C8D4E3",
             "startlinecolor": "#2a3f5f"
            },
            "type": "carpet"
           }
          ],
          "choropleth": [
           {
            "colorbar": {
             "outlinewidth": 0,
             "ticks": ""
            },
            "type": "choropleth"
           }
          ],
          "contour": [
           {
            "colorbar": {
             "outlinewidth": 0,
             "ticks": ""
            },
            "colorscale": [
             [
              0,
              "#0d0887"
             ],
             [
              0.1111111111111111,
              "#46039f"
             ],
             [
              0.2222222222222222,
              "#7201a8"
             ],
             [
              0.3333333333333333,
              "#9c179e"
             ],
             [
              0.4444444444444444,
              "#bd3786"
             ],
             [
              0.5555555555555556,
              "#d8576b"
             ],
             [
              0.6666666666666666,
              "#ed7953"
             ],
             [
              0.7777777777777778,
              "#fb9f3a"
             ],
             [
              0.8888888888888888,
              "#fdca26"
             ],
             [
              1,
              "#f0f921"
             ]
            ],
            "type": "contour"
           }
          ],
          "contourcarpet": [
           {
            "colorbar": {
             "outlinewidth": 0,
             "ticks": ""
            },
            "type": "contourcarpet"
           }
          ],
          "heatmap": [
           {
            "colorbar": {
             "outlinewidth": 0,
             "ticks": ""
            },
            "colorscale": [
             [
              0,
              "#0d0887"
             ],
             [
              0.1111111111111111,
              "#46039f"
             ],
             [
              0.2222222222222222,
              "#7201a8"
             ],
             [
              0.3333333333333333,
              "#9c179e"
             ],
             [
              0.4444444444444444,
              "#bd3786"
             ],
             [
              0.5555555555555556,
              "#d8576b"
             ],
             [
              0.6666666666666666,
              "#ed7953"
             ],
             [
              0.7777777777777778,
              "#fb9f3a"
             ],
             [
              0.8888888888888888,
              "#fdca26"
             ],
             [
              1,
              "#f0f921"
             ]
            ],
            "type": "heatmap"
           }
          ],
          "histogram": [
           {
            "marker": {
             "pattern": {
              "fillmode": "overlay",
              "size": 10,
              "solidity": 0.2
             }
            },
            "type": "histogram"
           }
          ],
          "histogram2d": [
           {
            "colorbar": {
             "outlinewidth": 0,
             "ticks": ""
            },
            "colorscale": [
             [
              0,
              "#0d0887"
             ],
             [
              0.1111111111111111,
              "#46039f"
             ],
             [
              0.2222222222222222,
              "#7201a8"
             ],
             [
              0.3333333333333333,
              "#9c179e"
             ],
             [
              0.4444444444444444,
              "#bd3786"
             ],
             [
              0.5555555555555556,
              "#d8576b"
             ],
             [
              0.6666666666666666,
              "#ed7953"
             ],
             [
              0.7777777777777778,
              "#fb9f3a"
             ],
             [
              0.8888888888888888,
              "#fdca26"
             ],
             [
              1,
              "#f0f921"
             ]
            ],
            "type": "histogram2d"
           }
          ],
          "histogram2dcontour": [
           {
            "colorbar": {
             "outlinewidth": 0,
             "ticks": ""
            },
            "colorscale": [
             [
              0,
              "#0d0887"
             ],
             [
              0.1111111111111111,
              "#46039f"
             ],
             [
              0.2222222222222222,
              "#7201a8"
             ],
             [
              0.3333333333333333,
              "#9c179e"
             ],
             [
              0.4444444444444444,
              "#bd3786"
             ],
             [
              0.5555555555555556,
              "#d8576b"
             ],
             [
              0.6666666666666666,
              "#ed7953"
             ],
             [
              0.7777777777777778,
              "#fb9f3a"
             ],
             [
              0.8888888888888888,
              "#fdca26"
             ],
             [
              1,
              "#f0f921"
             ]
            ],
            "type": "histogram2dcontour"
           }
          ],
          "mesh3d": [
           {
            "colorbar": {
             "outlinewidth": 0,
             "ticks": ""
            },
            "type": "mesh3d"
           }
          ],
          "parcoords": [
           {
            "line": {
             "colorbar": {
              "outlinewidth": 0,
              "ticks": ""
             }
            },
            "type": "parcoords"
           }
          ],
          "pie": [
           {
            "automargin": true,
            "type": "pie"
           }
          ],
          "scatter": [
           {
            "fillpattern": {
             "fillmode": "overlay",
             "size": 10,
             "solidity": 0.2
            },
            "type": "scatter"
           }
          ],
          "scatter3d": [
           {
            "line": {
             "colorbar": {
              "outlinewidth": 0,
              "ticks": ""
             }
            },
            "marker": {
             "colorbar": {
              "outlinewidth": 0,
              "ticks": ""
             }
            },
            "type": "scatter3d"
           }
          ],
          "scattercarpet": [
           {
            "marker": {
             "colorbar": {
              "outlinewidth": 0,
              "ticks": ""
             }
            },
            "type": "scattercarpet"
           }
          ],
          "scattergeo": [
           {
            "marker": {
             "colorbar": {
              "outlinewidth": 0,
              "ticks": ""
             }
            },
            "type": "scattergeo"
           }
          ],
          "scattergl": [
           {
            "marker": {
             "colorbar": {
              "outlinewidth": 0,
              "ticks": ""
             }
            },
            "type": "scattergl"
           }
          ],
          "scattermap": [
           {
            "marker": {
             "colorbar": {
              "outlinewidth": 0,
              "ticks": ""
             }
            },
            "type": "scattermap"
           }
          ],
          "scattermapbox": [
           {
            "marker": {
             "colorbar": {
              "outlinewidth": 0,
              "ticks": ""
             }
            },
            "type": "scattermapbox"
           }
          ],
          "scatterpolar": [
           {
            "marker": {
             "colorbar": {
              "outlinewidth": 0,
              "ticks": ""
             }
            },
            "type": "scatterpolar"
           }
          ],
          "scatterpolargl": [
           {
            "marker": {
             "colorbar": {
              "outlinewidth": 0,
              "ticks": ""
             }
            },
            "type": "scatterpolargl"
           }
          ],
          "scatterternary": [
           {
            "marker": {
             "colorbar": {
              "outlinewidth": 0,
              "ticks": ""
             }
            },
            "type": "scatterternary"
           }
          ],
          "surface": [
           {
            "colorbar": {
             "outlinewidth": 0,
             "ticks": ""
            },
            "colorscale": [
             [
              0,
              "#0d0887"
             ],
             [
              0.1111111111111111,
              "#46039f"
             ],
             [
              0.2222222222222222,
              "#7201a8"
             ],
             [
              0.3333333333333333,
              "#9c179e"
             ],
             [
              0.4444444444444444,
              "#bd3786"
             ],
             [
              0.5555555555555556,
              "#d8576b"
             ],
             [
              0.6666666666666666,
              "#ed7953"
             ],
             [
              0.7777777777777778,
              "#fb9f3a"
             ],
             [
              0.8888888888888888,
              "#fdca26"
             ],
             [
              1,
              "#f0f921"
             ]
            ],
            "type": "surface"
           }
          ],
          "table": [
           {
            "cells": {
             "fill": {
              "color": "#EBF0F8"
             },
             "line": {
              "color": "white"
             }
            },
            "header": {
             "fill": {
              "color": "#C8D4E3"
             },
             "line": {
              "color": "white"
             }
            },
            "type": "table"
           }
          ]
         },
         "layout": {
          "annotationdefaults": {
           "arrowcolor": "#2a3f5f",
           "arrowhead": 0,
           "arrowwidth": 1
          },
          "autotypenumbers": "strict",
          "coloraxis": {
           "colorbar": {
            "outlinewidth": 0,
            "ticks": ""
           }
          },
          "colorscale": {
           "diverging": [
            [
             0,
             "#8e0152"
            ],
            [
             0.1,
             "#c51b7d"
            ],
            [
             0.2,
             "#de77ae"
            ],
            [
             0.3,
             "#f1b6da"
            ],
            [
             0.4,
             "#fde0ef"
            ],
            [
             0.5,
             "#f7f7f7"
            ],
            [
             0.6,
             "#e6f5d0"
            ],
            [
             0.7,
             "#b8e186"
            ],
            [
             0.8,
             "#7fbc41"
            ],
            [
             0.9,
             "#4d9221"
            ],
            [
             1,
             "#276419"
            ]
           ],
           "sequential": [
            [
             0,
             "#0d0887"
            ],
            [
             0.1111111111111111,
             "#46039f"
            ],
            [
             0.2222222222222222,
             "#7201a8"
            ],
            [
             0.3333333333333333,
             "#9c179e"
            ],
            [
             0.4444444444444444,
             "#bd3786"
            ],
            [
             0.5555555555555556,
             "#d8576b"
            ],
            [
             0.6666666666666666,
             "#ed7953"
            ],
            [
             0.7777777777777778,
             "#fb9f3a"
            ],
            [
             0.8888888888888888,
             "#fdca26"
            ],
            [
             1,
             "#f0f921"
            ]
           ],
           "sequentialminus": [
            [
             0,
             "#0d0887"
            ],
            [
             0.1111111111111111,
             "#46039f"
            ],
            [
             0.2222222222222222,
             "#7201a8"
            ],
            [
             0.3333333333333333,
             "#9c179e"
            ],
            [
             0.4444444444444444,
             "#bd3786"
            ],
            [
             0.5555555555555556,
             "#d8576b"
            ],
            [
             0.6666666666666666,
             "#ed7953"
            ],
            [
             0.7777777777777778,
             "#fb9f3a"
            ],
            [
             0.8888888888888888,
             "#fdca26"
            ],
            [
             1,
             "#f0f921"
            ]
           ]
          },
          "colorway": [
           "#636efa",
           "#EF553B",
           "#00cc96",
           "#ab63fa",
           "#FFA15A",
           "#19d3f3",
           "#FF6692",
           "#B6E880",
           "#FF97FF",
           "#FECB52"
          ],
          "font": {
           "color": "#2a3f5f"
          },
          "geo": {
           "bgcolor": "white",
           "lakecolor": "white",
           "landcolor": "white",
           "showlakes": true,
           "showland": true,
           "subunitcolor": "#C8D4E3"
          },
          "hoverlabel": {
           "align": "left"
          },
          "hovermode": "closest",
          "mapbox": {
           "style": "light"
          },
          "paper_bgcolor": "white",
          "plot_bgcolor": "white",
          "polar": {
           "angularaxis": {
            "gridcolor": "#EBF0F8",
            "linecolor": "#EBF0F8",
            "ticks": ""
           },
           "bgcolor": "white",
           "radialaxis": {
            "gridcolor": "#EBF0F8",
            "linecolor": "#EBF0F8",
            "ticks": ""
           }
          },
          "scene": {
           "xaxis": {
            "backgroundcolor": "white",
            "gridcolor": "#DFE8F3",
            "gridwidth": 2,
            "linecolor": "#EBF0F8",
            "showbackground": true,
            "ticks": "",
            "zerolinecolor": "#EBF0F8"
           },
           "yaxis": {
            "backgroundcolor": "white",
            "gridcolor": "#DFE8F3",
            "gridwidth": 2,
            "linecolor": "#EBF0F8",
            "showbackground": true,
            "ticks": "",
            "zerolinecolor": "#EBF0F8"
           },
           "zaxis": {
            "backgroundcolor": "white",
            "gridcolor": "#DFE8F3",
            "gridwidth": 2,
            "linecolor": "#EBF0F8",
            "showbackground": true,
            "ticks": "",
            "zerolinecolor": "#EBF0F8"
           }
          },
          "shapedefaults": {
           "line": {
            "color": "#2a3f5f"
           }
          },
          "ternary": {
           "aaxis": {
            "gridcolor": "#DFE8F3",
            "linecolor": "#A2B1C6",
            "ticks": ""
           },
           "baxis": {
            "gridcolor": "#DFE8F3",
            "linecolor": "#A2B1C6",
            "ticks": ""
           },
           "bgcolor": "white",
           "caxis": {
            "gridcolor": "#DFE8F3",
            "linecolor": "#A2B1C6",
            "ticks": ""
           }
          },
          "title": {
           "x": 0.05
          },
          "xaxis": {
           "automargin": true,
           "gridcolor": "#EBF0F8",
           "linecolor": "#EBF0F8",
           "ticks": "",
           "title": {
            "standoff": 15
           },
           "zerolinecolor": "#EBF0F8",
           "zerolinewidth": 2
          },
          "yaxis": {
           "automargin": true,
           "gridcolor": "#EBF0F8",
           "linecolor": "#EBF0F8",
           "ticks": "",
           "title": {
            "standoff": 15
           },
           "zerolinecolor": "#EBF0F8",
           "zerolinewidth": 2
          }
         }
        },
        "title": {
         "text": "Top 10 Artistas com Mais Seguidores "
        },
        "xaxis": {
         "anchor": "y",
         "domain": [
          0,
          1
         ],
         "title": {
          "text": "Número de Seguidores"
         }
        },
        "yaxis": {
         "anchor": "x",
         "categoryorder": "total ascending",
         "domain": [
          0,
          1
         ],
         "title": {
          "text": "Artista"
         }
        }
       }
      }
     },
     "metadata": {},
     "output_type": "display_data"
    }
   ],
   "source": [
    "import plotly.express as px\n",
    "\n",
    "unique_artistas = db_final.drop_duplicates(subset='name_y')\n",
    "top_10_artistas = unique_artistas.sort_values('followers', ascending=False).head(10)\n",
    "fig = px.bar(top_10_artistas,x='followers',y='name_y',orientation='h',title='Top 10 Artistas com Mais Seguidores ',labels={'followers': 'Número de Seguidores', 'name_y': 'Artista'},)\n",
    "fig.update_yaxes(categoryorder='total ascending')\n",
    "fig.update_layout(template='plotly_white')\n",
    "\n",
    "fig.show()"
   ]
  },
  {
   "cell_type": "markdown",
   "id": "56b14b9c",
   "metadata": {},
   "source": [
    "### 3.14 - Playlists mais populares"
   ]
  },
  {
   "cell_type": "code",
   "execution_count": null,
   "id": "640d7987",
   "metadata": {},
   "outputs": [
    {
     "data": {
      "application/vnd.plotly.v1+json": {
       "config": {
        "plotlyServerURL": "https://plot.ly"
       },
       "data": [
        {
         "hovertemplate": "Popularidade Média=%{x}<br>Playlist=%{y}<extra></extra>",
         "legendgroup": "",
         "marker": {
          "color": "#636efa",
          "pattern": {
           "shape": ""
          }
         },
         "name": "",
         "orientation": "h",
         "showlegend": false,
         "textposition": "auto",
         "type": "bar",
         "x": {
          "bdata": "AAAAAABAV0CrqqqqqsJVQAAAAAAAgFVAAAAAAABAVEBu27Zt2xZUQAAAAAAA4FNAVVVVVVXVU0AAAAAAAMBTQL3pTW96k1NAAAAAAACAU0A=",
          "dtype": "f8"
         },
         "xaxis": "x",
         "y": [
          "United States Top 50",
          "Mexico Top 50",
          "Syliin",
          "A1 Hip-Hop",
          "Baila Reggaeton",
          "Mega Hit Mix",
          "Éxitos Chile",
          "Hip Hop Mixtape",
          "Brazil Top 50",
          "Power Workout"
         ],
         "yaxis": "y"
        }
       ],
       "layout": {
        "barmode": "relative",
        "legend": {
         "tracegroupgap": 0
        },
        "template": {
         "data": {
          "bar": [
           {
            "error_x": {
             "color": "#2a3f5f"
            },
            "error_y": {
             "color": "#2a3f5f"
            },
            "marker": {
             "line": {
              "color": "white",
              "width": 0.5
             },
             "pattern": {
              "fillmode": "overlay",
              "size": 10,
              "solidity": 0.2
             }
            },
            "type": "bar"
           }
          ],
          "barpolar": [
           {
            "marker": {
             "line": {
              "color": "white",
              "width": 0.5
             },
             "pattern": {
              "fillmode": "overlay",
              "size": 10,
              "solidity": 0.2
             }
            },
            "type": "barpolar"
           }
          ],
          "carpet": [
           {
            "aaxis": {
             "endlinecolor": "#2a3f5f",
             "gridcolor": "#C8D4E3",
             "linecolor": "#C8D4E3",
             "minorgridcolor": "#C8D4E3",
             "startlinecolor": "#2a3f5f"
            },
            "baxis": {
             "endlinecolor": "#2a3f5f",
             "gridcolor": "#C8D4E3",
             "linecolor": "#C8D4E3",
             "minorgridcolor": "#C8D4E3",
             "startlinecolor": "#2a3f5f"
            },
            "type": "carpet"
           }
          ],
          "choropleth": [
           {
            "colorbar": {
             "outlinewidth": 0,
             "ticks": ""
            },
            "type": "choropleth"
           }
          ],
          "contour": [
           {
            "colorbar": {
             "outlinewidth": 0,
             "ticks": ""
            },
            "colorscale": [
             [
              0,
              "#0d0887"
             ],
             [
              0.1111111111111111,
              "#46039f"
             ],
             [
              0.2222222222222222,
              "#7201a8"
             ],
             [
              0.3333333333333333,
              "#9c179e"
             ],
             [
              0.4444444444444444,
              "#bd3786"
             ],
             [
              0.5555555555555556,
              "#d8576b"
             ],
             [
              0.6666666666666666,
              "#ed7953"
             ],
             [
              0.7777777777777778,
              "#fb9f3a"
             ],
             [
              0.8888888888888888,
              "#fdca26"
             ],
             [
              1,
              "#f0f921"
             ]
            ],
            "type": "contour"
           }
          ],
          "contourcarpet": [
           {
            "colorbar": {
             "outlinewidth": 0,
             "ticks": ""
            },
            "type": "contourcarpet"
           }
          ],
          "heatmap": [
           {
            "colorbar": {
             "outlinewidth": 0,
             "ticks": ""
            },
            "colorscale": [
             [
              0,
              "#0d0887"
             ],
             [
              0.1111111111111111,
              "#46039f"
             ],
             [
              0.2222222222222222,
              "#7201a8"
             ],
             [
              0.3333333333333333,
              "#9c179e"
             ],
             [
              0.4444444444444444,
              "#bd3786"
             ],
             [
              0.5555555555555556,
              "#d8576b"
             ],
             [
              0.6666666666666666,
              "#ed7953"
             ],
             [
              0.7777777777777778,
              "#fb9f3a"
             ],
             [
              0.8888888888888888,
              "#fdca26"
             ],
             [
              1,
              "#f0f921"
             ]
            ],
            "type": "heatmap"
           }
          ],
          "histogram": [
           {
            "marker": {
             "pattern": {
              "fillmode": "overlay",
              "size": 10,
              "solidity": 0.2
             }
            },
            "type": "histogram"
           }
          ],
          "histogram2d": [
           {
            "colorbar": {
             "outlinewidth": 0,
             "ticks": ""
            },
            "colorscale": [
             [
              0,
              "#0d0887"
             ],
             [
              0.1111111111111111,
              "#46039f"
             ],
             [
              0.2222222222222222,
              "#7201a8"
             ],
             [
              0.3333333333333333,
              "#9c179e"
             ],
             [
              0.4444444444444444,
              "#bd3786"
             ],
             [
              0.5555555555555556,
              "#d8576b"
             ],
             [
              0.6666666666666666,
              "#ed7953"
             ],
             [
              0.7777777777777778,
              "#fb9f3a"
             ],
             [
              0.8888888888888888,
              "#fdca26"
             ],
             [
              1,
              "#f0f921"
             ]
            ],
            "type": "histogram2d"
           }
          ],
          "histogram2dcontour": [
           {
            "colorbar": {
             "outlinewidth": 0,
             "ticks": ""
            },
            "colorscale": [
             [
              0,
              "#0d0887"
             ],
             [
              0.1111111111111111,
              "#46039f"
             ],
             [
              0.2222222222222222,
              "#7201a8"
             ],
             [
              0.3333333333333333,
              "#9c179e"
             ],
             [
              0.4444444444444444,
              "#bd3786"
             ],
             [
              0.5555555555555556,
              "#d8576b"
             ],
             [
              0.6666666666666666,
              "#ed7953"
             ],
             [
              0.7777777777777778,
              "#fb9f3a"
             ],
             [
              0.8888888888888888,
              "#fdca26"
             ],
             [
              1,
              "#f0f921"
             ]
            ],
            "type": "histogram2dcontour"
           }
          ],
          "mesh3d": [
           {
            "colorbar": {
             "outlinewidth": 0,
             "ticks": ""
            },
            "type": "mesh3d"
           }
          ],
          "parcoords": [
           {
            "line": {
             "colorbar": {
              "outlinewidth": 0,
              "ticks": ""
             }
            },
            "type": "parcoords"
           }
          ],
          "pie": [
           {
            "automargin": true,
            "type": "pie"
           }
          ],
          "scatter": [
           {
            "fillpattern": {
             "fillmode": "overlay",
             "size": 10,
             "solidity": 0.2
            },
            "type": "scatter"
           }
          ],
          "scatter3d": [
           {
            "line": {
             "colorbar": {
              "outlinewidth": 0,
              "ticks": ""
             }
            },
            "marker": {
             "colorbar": {
              "outlinewidth": 0,
              "ticks": ""
             }
            },
            "type": "scatter3d"
           }
          ],
          "scattercarpet": [
           {
            "marker": {
             "colorbar": {
              "outlinewidth": 0,
              "ticks": ""
             }
            },
            "type": "scattercarpet"
           }
          ],
          "scattergeo": [
           {
            "marker": {
             "colorbar": {
              "outlinewidth": 0,
              "ticks": ""
             }
            },
            "type": "scattergeo"
           }
          ],
          "scattergl": [
           {
            "marker": {
             "colorbar": {
              "outlinewidth": 0,
              "ticks": ""
             }
            },
            "type": "scattergl"
           }
          ],
          "scattermap": [
           {
            "marker": {
             "colorbar": {
              "outlinewidth": 0,
              "ticks": ""
             }
            },
            "type": "scattermap"
           }
          ],
          "scattermapbox": [
           {
            "marker": {
             "colorbar": {
              "outlinewidth": 0,
              "ticks": ""
             }
            },
            "type": "scattermapbox"
           }
          ],
          "scatterpolar": [
           {
            "marker": {
             "colorbar": {
              "outlinewidth": 0,
              "ticks": ""
             }
            },
            "type": "scatterpolar"
           }
          ],
          "scatterpolargl": [
           {
            "marker": {
             "colorbar": {
              "outlinewidth": 0,
              "ticks": ""
             }
            },
            "type": "scatterpolargl"
           }
          ],
          "scatterternary": [
           {
            "marker": {
             "colorbar": {
              "outlinewidth": 0,
              "ticks": ""
             }
            },
            "type": "scatterternary"
           }
          ],
          "surface": [
           {
            "colorbar": {
             "outlinewidth": 0,
             "ticks": ""
            },
            "colorscale": [
             [
              0,
              "#0d0887"
             ],
             [
              0.1111111111111111,
              "#46039f"
             ],
             [
              0.2222222222222222,
              "#7201a8"
             ],
             [
              0.3333333333333333,
              "#9c179e"
             ],
             [
              0.4444444444444444,
              "#bd3786"
             ],
             [
              0.5555555555555556,
              "#d8576b"
             ],
             [
              0.6666666666666666,
              "#ed7953"
             ],
             [
              0.7777777777777778,
              "#fb9f3a"
             ],
             [
              0.8888888888888888,
              "#fdca26"
             ],
             [
              1,
              "#f0f921"
             ]
            ],
            "type": "surface"
           }
          ],
          "table": [
           {
            "cells": {
             "fill": {
              "color": "#EBF0F8"
             },
             "line": {
              "color": "white"
             }
            },
            "header": {
             "fill": {
              "color": "#C8D4E3"
             },
             "line": {
              "color": "white"
             }
            },
            "type": "table"
           }
          ]
         },
         "layout": {
          "annotationdefaults": {
           "arrowcolor": "#2a3f5f",
           "arrowhead": 0,
           "arrowwidth": 1
          },
          "autotypenumbers": "strict",
          "coloraxis": {
           "colorbar": {
            "outlinewidth": 0,
            "ticks": ""
           }
          },
          "colorscale": {
           "diverging": [
            [
             0,
             "#8e0152"
            ],
            [
             0.1,
             "#c51b7d"
            ],
            [
             0.2,
             "#de77ae"
            ],
            [
             0.3,
             "#f1b6da"
            ],
            [
             0.4,
             "#fde0ef"
            ],
            [
             0.5,
             "#f7f7f7"
            ],
            [
             0.6,
             "#e6f5d0"
            ],
            [
             0.7,
             "#b8e186"
            ],
            [
             0.8,
             "#7fbc41"
            ],
            [
             0.9,
             "#4d9221"
            ],
            [
             1,
             "#276419"
            ]
           ],
           "sequential": [
            [
             0,
             "#0d0887"
            ],
            [
             0.1111111111111111,
             "#46039f"
            ],
            [
             0.2222222222222222,
             "#7201a8"
            ],
            [
             0.3333333333333333,
             "#9c179e"
            ],
            [
             0.4444444444444444,
             "#bd3786"
            ],
            [
             0.5555555555555556,
             "#d8576b"
            ],
            [
             0.6666666666666666,
             "#ed7953"
            ],
            [
             0.7777777777777778,
             "#fb9f3a"
            ],
            [
             0.8888888888888888,
             "#fdca26"
            ],
            [
             1,
             "#f0f921"
            ]
           ],
           "sequentialminus": [
            [
             0,
             "#0d0887"
            ],
            [
             0.1111111111111111,
             "#46039f"
            ],
            [
             0.2222222222222222,
             "#7201a8"
            ],
            [
             0.3333333333333333,
             "#9c179e"
            ],
            [
             0.4444444444444444,
             "#bd3786"
            ],
            [
             0.5555555555555556,
             "#d8576b"
            ],
            [
             0.6666666666666666,
             "#ed7953"
            ],
            [
             0.7777777777777778,
             "#fb9f3a"
            ],
            [
             0.8888888888888888,
             "#fdca26"
            ],
            [
             1,
             "#f0f921"
            ]
           ]
          },
          "colorway": [
           "#636efa",
           "#EF553B",
           "#00cc96",
           "#ab63fa",
           "#FFA15A",
           "#19d3f3",
           "#FF6692",
           "#B6E880",
           "#FF97FF",
           "#FECB52"
          ],
          "font": {
           "color": "#2a3f5f"
          },
          "geo": {
           "bgcolor": "white",
           "lakecolor": "white",
           "landcolor": "white",
           "showlakes": true,
           "showland": true,
           "subunitcolor": "#C8D4E3"
          },
          "hoverlabel": {
           "align": "left"
          },
          "hovermode": "closest",
          "mapbox": {
           "style": "light"
          },
          "paper_bgcolor": "white",
          "plot_bgcolor": "white",
          "polar": {
           "angularaxis": {
            "gridcolor": "#EBF0F8",
            "linecolor": "#EBF0F8",
            "ticks": ""
           },
           "bgcolor": "white",
           "radialaxis": {
            "gridcolor": "#EBF0F8",
            "linecolor": "#EBF0F8",
            "ticks": ""
           }
          },
          "scene": {
           "xaxis": {
            "backgroundcolor": "white",
            "gridcolor": "#DFE8F3",
            "gridwidth": 2,
            "linecolor": "#EBF0F8",
            "showbackground": true,
            "ticks": "",
            "zerolinecolor": "#EBF0F8"
           },
           "yaxis": {
            "backgroundcolor": "white",
            "gridcolor": "#DFE8F3",
            "gridwidth": 2,
            "linecolor": "#EBF0F8",
            "showbackground": true,
            "ticks": "",
            "zerolinecolor": "#EBF0F8"
           },
           "zaxis": {
            "backgroundcolor": "white",
            "gridcolor": "#DFE8F3",
            "gridwidth": 2,
            "linecolor": "#EBF0F8",
            "showbackground": true,
            "ticks": "",
            "zerolinecolor": "#EBF0F8"
           }
          },
          "shapedefaults": {
           "line": {
            "color": "#2a3f5f"
           }
          },
          "ternary": {
           "aaxis": {
            "gridcolor": "#DFE8F3",
            "linecolor": "#A2B1C6",
            "ticks": ""
           },
           "baxis": {
            "gridcolor": "#DFE8F3",
            "linecolor": "#A2B1C6",
            "ticks": ""
           },
           "bgcolor": "white",
           "caxis": {
            "gridcolor": "#DFE8F3",
            "linecolor": "#A2B1C6",
            "ticks": ""
           }
          },
          "title": {
           "x": 0.05
          },
          "xaxis": {
           "automargin": true,
           "gridcolor": "#EBF0F8",
           "linecolor": "#EBF0F8",
           "ticks": "",
           "title": {
            "standoff": 15
           },
           "zerolinecolor": "#EBF0F8",
           "zerolinewidth": 2
          },
          "yaxis": {
           "automargin": true,
           "gridcolor": "#EBF0F8",
           "linecolor": "#EBF0F8",
           "ticks": "",
           "title": {
            "standoff": 15
           },
           "zerolinecolor": "#EBF0F8",
           "zerolinewidth": 2
          }
         }
        },
        "title": {
         "text": "Top 10 PLaylists Mais Populares (Média de Popularidade das Músicas) "
        },
        "xaxis": {
         "anchor": "y",
         "domain": [
          0,
          1
         ],
         "title": {
          "text": "Popularidade Média"
         }
        },
        "yaxis": {
         "anchor": "x",
         "categoryorder": "total ascending",
         "domain": [
          0,
          1
         ],
         "title": {
          "text": "Playlist"
         }
        }
       }
      }
     },
     "metadata": {},
     "output_type": "display_data"
    }
   ],
   "source": [
    "album_popularity = db_final.groupby('playlist')['popularity'].mean().reset_index()\n",
    "top_albuns = album_popularity.sort_values('popularity', ascending=False).head(10)\n",
    "fig = px.bar(\n",
    "    top_albuns,\n",
    "    x='popularity',\n",
    "    y='playlist',\n",
    "    orientation='h',\n",
    "    title='Top 10 PLaylists Mais Populares (Média de Popularidade das Músicas) ',\n",
    "    labels={'popularity': 'Popularidade Média', 'playlist': 'Playlist'},)\n",
    "\n",
    "fig.update_yaxes(categoryorder='total ascending')\n",
    "fig.update_layout(template='plotly_white')\n",
    "\n",
    "fig.show()"
   ]
  },
  {
   "cell_type": "markdown",
   "id": "566801c9",
   "metadata": {},
   "source": [
    "### 3.15 - Artistas ideais para vendas\n",
    "\n",
    "Esta análise foi realizada com o objetivo de identificar quais artistas têm o maior potencial para vender CDs, considerando dois fatores cruciais: popularidade e número de seguidores. A premissa por trás dessa análise é que deve-se focar em artistas que não apenas sejam populares no momento, mas que também possuam uma base fiel de fãs.\n",
    "As duas variáveis (popularidade e seguidores) foram normalizadas utilizando a técnica de MinMaxScaler para que ficassem na mesma escala de 0 a 1. Isso permite que ambas as métricas sejam comparadas de forma justa, sem que uma sobreponha a outra devido às suas escalas diferentes.\n",
    "Para identificar os artistas com maior potencial de vendas, foi criada uma pontuação combinada (chamada final_score). Essa pontuação leva em consideração a média da popularidade e a média dos seguidores. Ou seja, a análise não apenas favorece artistas populares no momento, mas também dá peso aos artistas com bases de fãs grandes e fiéis.\n",
    "\n"
   ]
  },
  {
   "cell_type": "code",
   "execution_count": null,
   "id": "605868d7",
   "metadata": {},
   "outputs": [
    {
     "name": "stderr",
     "output_type": "stream",
     "text": [
      "C:\\Users\\fguar\\AppData\\Local\\Temp\\ipykernel_23136\\3616349920.py:4: SettingWithCopyWarning:\n",
      "\n",
      "\n",
      "A value is trying to be set on a copy of a slice from a DataFrame.\n",
      "Try using .loc[row_indexer,col_indexer] = value instead\n",
      "\n",
      "See the caveats in the documentation: https://pandas.pydata.org/pandas-docs/stable/user_guide/indexing.html#returning-a-view-versus-a-copy\n",
      "\n",
      "C:\\Users\\fguar\\AppData\\Local\\Temp\\ipykernel_23136\\3616349920.py:7: SettingWithCopyWarning:\n",
      "\n",
      "\n",
      "A value is trying to be set on a copy of a slice from a DataFrame.\n",
      "Try using .loc[row_indexer,col_indexer] = value instead\n",
      "\n",
      "See the caveats in the documentation: https://pandas.pydata.org/pandas-docs/stable/user_guide/indexing.html#returning-a-view-versus-a-copy\n",
      "\n"
     ]
    },
    {
     "data": {
      "application/vnd.plotly.v1+json": {
       "config": {
        "plotlyServerURL": "https://plot.ly"
       },
       "data": [
        {
         "hovertemplate": "Artista=%{x}<br>Pontuação Final=%{y}<extra></extra>",
         "legendgroup": "",
         "marker": {
          "color": "#636efa",
          "pattern": {
           "shape": ""
          }
         },
         "name": "",
         "orientation": "v",
         "showlegend": false,
         "textposition": "auto",
         "type": "bar",
         "x": [
          "Bruno Mars",
          "David Guetta",
          "Beyoncé",
          "Shakira",
          "Avicii",
          "One Direction",
          "The Chainsmokers",
          "Katy Perry",
          "Sia",
          "Dua Lipa"
         ],
         "xaxis": "x",
         "y": {
          "bdata": "AAAAAAAA8D9qcb8OUxHuPxKH9faJa+0/pJr2dC5V6z/HVp2cUt/oPxbNLpjL0+g/Ksag+pvT6D++GiXnWMzoP4nlsYkCV+g/flYDA8bx5z8=",
          "dtype": "f8"
         },
         "yaxis": "y"
        }
       ],
       "layout": {
        "barmode": "relative",
        "legend": {
         "tracegroupgap": 0
        },
        "template": {
         "data": {
          "bar": [
           {
            "error_x": {
             "color": "#2a3f5f"
            },
            "error_y": {
             "color": "#2a3f5f"
            },
            "marker": {
             "line": {
              "color": "white",
              "width": 0.5
             },
             "pattern": {
              "fillmode": "overlay",
              "size": 10,
              "solidity": 0.2
             }
            },
            "type": "bar"
           }
          ],
          "barpolar": [
           {
            "marker": {
             "line": {
              "color": "white",
              "width": 0.5
             },
             "pattern": {
              "fillmode": "overlay",
              "size": 10,
              "solidity": 0.2
             }
            },
            "type": "barpolar"
           }
          ],
          "carpet": [
           {
            "aaxis": {
             "endlinecolor": "#2a3f5f",
             "gridcolor": "#C8D4E3",
             "linecolor": "#C8D4E3",
             "minorgridcolor": "#C8D4E3",
             "startlinecolor": "#2a3f5f"
            },
            "baxis": {
             "endlinecolor": "#2a3f5f",
             "gridcolor": "#C8D4E3",
             "linecolor": "#C8D4E3",
             "minorgridcolor": "#C8D4E3",
             "startlinecolor": "#2a3f5f"
            },
            "type": "carpet"
           }
          ],
          "choropleth": [
           {
            "colorbar": {
             "outlinewidth": 0,
             "ticks": ""
            },
            "type": "choropleth"
           }
          ],
          "contour": [
           {
            "colorbar": {
             "outlinewidth": 0,
             "ticks": ""
            },
            "colorscale": [
             [
              0,
              "#0d0887"
             ],
             [
              0.1111111111111111,
              "#46039f"
             ],
             [
              0.2222222222222222,
              "#7201a8"
             ],
             [
              0.3333333333333333,
              "#9c179e"
             ],
             [
              0.4444444444444444,
              "#bd3786"
             ],
             [
              0.5555555555555556,
              "#d8576b"
             ],
             [
              0.6666666666666666,
              "#ed7953"
             ],
             [
              0.7777777777777778,
              "#fb9f3a"
             ],
             [
              0.8888888888888888,
              "#fdca26"
             ],
             [
              1,
              "#f0f921"
             ]
            ],
            "type": "contour"
           }
          ],
          "contourcarpet": [
           {
            "colorbar": {
             "outlinewidth": 0,
             "ticks": ""
            },
            "type": "contourcarpet"
           }
          ],
          "heatmap": [
           {
            "colorbar": {
             "outlinewidth": 0,
             "ticks": ""
            },
            "colorscale": [
             [
              0,
              "#0d0887"
             ],
             [
              0.1111111111111111,
              "#46039f"
             ],
             [
              0.2222222222222222,
              "#7201a8"
             ],
             [
              0.3333333333333333,
              "#9c179e"
             ],
             [
              0.4444444444444444,
              "#bd3786"
             ],
             [
              0.5555555555555556,
              "#d8576b"
             ],
             [
              0.6666666666666666,
              "#ed7953"
             ],
             [
              0.7777777777777778,
              "#fb9f3a"
             ],
             [
              0.8888888888888888,
              "#fdca26"
             ],
             [
              1,
              "#f0f921"
             ]
            ],
            "type": "heatmap"
           }
          ],
          "histogram": [
           {
            "marker": {
             "pattern": {
              "fillmode": "overlay",
              "size": 10,
              "solidity": 0.2
             }
            },
            "type": "histogram"
           }
          ],
          "histogram2d": [
           {
            "colorbar": {
             "outlinewidth": 0,
             "ticks": ""
            },
            "colorscale": [
             [
              0,
              "#0d0887"
             ],
             [
              0.1111111111111111,
              "#46039f"
             ],
             [
              0.2222222222222222,
              "#7201a8"
             ],
             [
              0.3333333333333333,
              "#9c179e"
             ],
             [
              0.4444444444444444,
              "#bd3786"
             ],
             [
              0.5555555555555556,
              "#d8576b"
             ],
             [
              0.6666666666666666,
              "#ed7953"
             ],
             [
              0.7777777777777778,
              "#fb9f3a"
             ],
             [
              0.8888888888888888,
              "#fdca26"
             ],
             [
              1,
              "#f0f921"
             ]
            ],
            "type": "histogram2d"
           }
          ],
          "histogram2dcontour": [
           {
            "colorbar": {
             "outlinewidth": 0,
             "ticks": ""
            },
            "colorscale": [
             [
              0,
              "#0d0887"
             ],
             [
              0.1111111111111111,
              "#46039f"
             ],
             [
              0.2222222222222222,
              "#7201a8"
             ],
             [
              0.3333333333333333,
              "#9c179e"
             ],
             [
              0.4444444444444444,
              "#bd3786"
             ],
             [
              0.5555555555555556,
              "#d8576b"
             ],
             [
              0.6666666666666666,
              "#ed7953"
             ],
             [
              0.7777777777777778,
              "#fb9f3a"
             ],
             [
              0.8888888888888888,
              "#fdca26"
             ],
             [
              1,
              "#f0f921"
             ]
            ],
            "type": "histogram2dcontour"
           }
          ],
          "mesh3d": [
           {
            "colorbar": {
             "outlinewidth": 0,
             "ticks": ""
            },
            "type": "mesh3d"
           }
          ],
          "parcoords": [
           {
            "line": {
             "colorbar": {
              "outlinewidth": 0,
              "ticks": ""
             }
            },
            "type": "parcoords"
           }
          ],
          "pie": [
           {
            "automargin": true,
            "type": "pie"
           }
          ],
          "scatter": [
           {
            "fillpattern": {
             "fillmode": "overlay",
             "size": 10,
             "solidity": 0.2
            },
            "type": "scatter"
           }
          ],
          "scatter3d": [
           {
            "line": {
             "colorbar": {
              "outlinewidth": 0,
              "ticks": ""
             }
            },
            "marker": {
             "colorbar": {
              "outlinewidth": 0,
              "ticks": ""
             }
            },
            "type": "scatter3d"
           }
          ],
          "scattercarpet": [
           {
            "marker": {
             "colorbar": {
              "outlinewidth": 0,
              "ticks": ""
             }
            },
            "type": "scattercarpet"
           }
          ],
          "scattergeo": [
           {
            "marker": {
             "colorbar": {
              "outlinewidth": 0,
              "ticks": ""
             }
            },
            "type": "scattergeo"
           }
          ],
          "scattergl": [
           {
            "marker": {
             "colorbar": {
              "outlinewidth": 0,
              "ticks": ""
             }
            },
            "type": "scattergl"
           }
          ],
          "scattermap": [
           {
            "marker": {
             "colorbar": {
              "outlinewidth": 0,
              "ticks": ""
             }
            },
            "type": "scattermap"
           }
          ],
          "scattermapbox": [
           {
            "marker": {
             "colorbar": {
              "outlinewidth": 0,
              "ticks": ""
             }
            },
            "type": "scattermapbox"
           }
          ],
          "scatterpolar": [
           {
            "marker": {
             "colorbar": {
              "outlinewidth": 0,
              "ticks": ""
             }
            },
            "type": "scatterpolar"
           }
          ],
          "scatterpolargl": [
           {
            "marker": {
             "colorbar": {
              "outlinewidth": 0,
              "ticks": ""
             }
            },
            "type": "scatterpolargl"
           }
          ],
          "scatterternary": [
           {
            "marker": {
             "colorbar": {
              "outlinewidth": 0,
              "ticks": ""
             }
            },
            "type": "scatterternary"
           }
          ],
          "surface": [
           {
            "colorbar": {
             "outlinewidth": 0,
             "ticks": ""
            },
            "colorscale": [
             [
              0,
              "#0d0887"
             ],
             [
              0.1111111111111111,
              "#46039f"
             ],
             [
              0.2222222222222222,
              "#7201a8"
             ],
             [
              0.3333333333333333,
              "#9c179e"
             ],
             [
              0.4444444444444444,
              "#bd3786"
             ],
             [
              0.5555555555555556,
              "#d8576b"
             ],
             [
              0.6666666666666666,
              "#ed7953"
             ],
             [
              0.7777777777777778,
              "#fb9f3a"
             ],
             [
              0.8888888888888888,
              "#fdca26"
             ],
             [
              1,
              "#f0f921"
             ]
            ],
            "type": "surface"
           }
          ],
          "table": [
           {
            "cells": {
             "fill": {
              "color": "#EBF0F8"
             },
             "line": {
              "color": "white"
             }
            },
            "header": {
             "fill": {
              "color": "#C8D4E3"
             },
             "line": {
              "color": "white"
             }
            },
            "type": "table"
           }
          ]
         },
         "layout": {
          "annotationdefaults": {
           "arrowcolor": "#2a3f5f",
           "arrowhead": 0,
           "arrowwidth": 1
          },
          "autotypenumbers": "strict",
          "coloraxis": {
           "colorbar": {
            "outlinewidth": 0,
            "ticks": ""
           }
          },
          "colorscale": {
           "diverging": [
            [
             0,
             "#8e0152"
            ],
            [
             0.1,
             "#c51b7d"
            ],
            [
             0.2,
             "#de77ae"
            ],
            [
             0.3,
             "#f1b6da"
            ],
            [
             0.4,
             "#fde0ef"
            ],
            [
             0.5,
             "#f7f7f7"
            ],
            [
             0.6,
             "#e6f5d0"
            ],
            [
             0.7,
             "#b8e186"
            ],
            [
             0.8,
             "#7fbc41"
            ],
            [
             0.9,
             "#4d9221"
            ],
            [
             1,
             "#276419"
            ]
           ],
           "sequential": [
            [
             0,
             "#0d0887"
            ],
            [
             0.1111111111111111,
             "#46039f"
            ],
            [
             0.2222222222222222,
             "#7201a8"
            ],
            [
             0.3333333333333333,
             "#9c179e"
            ],
            [
             0.4444444444444444,
             "#bd3786"
            ],
            [
             0.5555555555555556,
             "#d8576b"
            ],
            [
             0.6666666666666666,
             "#ed7953"
            ],
            [
             0.7777777777777778,
             "#fb9f3a"
            ],
            [
             0.8888888888888888,
             "#fdca26"
            ],
            [
             1,
             "#f0f921"
            ]
           ],
           "sequentialminus": [
            [
             0,
             "#0d0887"
            ],
            [
             0.1111111111111111,
             "#46039f"
            ],
            [
             0.2222222222222222,
             "#7201a8"
            ],
            [
             0.3333333333333333,
             "#9c179e"
            ],
            [
             0.4444444444444444,
             "#bd3786"
            ],
            [
             0.5555555555555556,
             "#d8576b"
            ],
            [
             0.6666666666666666,
             "#ed7953"
            ],
            [
             0.7777777777777778,
             "#fb9f3a"
            ],
            [
             0.8888888888888888,
             "#fdca26"
            ],
            [
             1,
             "#f0f921"
            ]
           ]
          },
          "colorway": [
           "#636efa",
           "#EF553B",
           "#00cc96",
           "#ab63fa",
           "#FFA15A",
           "#19d3f3",
           "#FF6692",
           "#B6E880",
           "#FF97FF",
           "#FECB52"
          ],
          "font": {
           "color": "#2a3f5f"
          },
          "geo": {
           "bgcolor": "white",
           "lakecolor": "white",
           "landcolor": "white",
           "showlakes": true,
           "showland": true,
           "subunitcolor": "#C8D4E3"
          },
          "hoverlabel": {
           "align": "left"
          },
          "hovermode": "closest",
          "mapbox": {
           "style": "light"
          },
          "paper_bgcolor": "white",
          "plot_bgcolor": "white",
          "polar": {
           "angularaxis": {
            "gridcolor": "#EBF0F8",
            "linecolor": "#EBF0F8",
            "ticks": ""
           },
           "bgcolor": "white",
           "radialaxis": {
            "gridcolor": "#EBF0F8",
            "linecolor": "#EBF0F8",
            "ticks": ""
           }
          },
          "scene": {
           "xaxis": {
            "backgroundcolor": "white",
            "gridcolor": "#DFE8F3",
            "gridwidth": 2,
            "linecolor": "#EBF0F8",
            "showbackground": true,
            "ticks": "",
            "zerolinecolor": "#EBF0F8"
           },
           "yaxis": {
            "backgroundcolor": "white",
            "gridcolor": "#DFE8F3",
            "gridwidth": 2,
            "linecolor": "#EBF0F8",
            "showbackground": true,
            "ticks": "",
            "zerolinecolor": "#EBF0F8"
           },
           "zaxis": {
            "backgroundcolor": "white",
            "gridcolor": "#DFE8F3",
            "gridwidth": 2,
            "linecolor": "#EBF0F8",
            "showbackground": true,
            "ticks": "",
            "zerolinecolor": "#EBF0F8"
           }
          },
          "shapedefaults": {
           "line": {
            "color": "#2a3f5f"
           }
          },
          "ternary": {
           "aaxis": {
            "gridcolor": "#DFE8F3",
            "linecolor": "#A2B1C6",
            "ticks": ""
           },
           "baxis": {
            "gridcolor": "#DFE8F3",
            "linecolor": "#A2B1C6",
            "ticks": ""
           },
           "bgcolor": "white",
           "caxis": {
            "gridcolor": "#DFE8F3",
            "linecolor": "#A2B1C6",
            "ticks": ""
           }
          },
          "title": {
           "x": 0.05
          },
          "xaxis": {
           "automargin": true,
           "gridcolor": "#EBF0F8",
           "linecolor": "#EBF0F8",
           "ticks": "",
           "title": {
            "standoff": 15
           },
           "zerolinecolor": "#EBF0F8",
           "zerolinewidth": 2
          },
          "yaxis": {
           "automargin": true,
           "gridcolor": "#EBF0F8",
           "linecolor": "#EBF0F8",
           "ticks": "",
           "title": {
            "standoff": 15
           },
           "zerolinecolor": "#EBF0F8",
           "zerolinewidth": 2
          }
         }
        },
        "title": {
         "text": "Top 10 Artistas (Popularidade + Seguidores)"
        },
        "xaxis": {
         "anchor": "y",
         "domain": [
          0,
          1
         ],
         "title": {
          "text": "Artista"
         }
        },
        "yaxis": {
         "anchor": "x",
         "domain": [
          0,
          1
         ],
         "title": {
          "text": "Pontuação Final"
         }
        }
       }
      }
     },
     "metadata": {},
     "output_type": "display_data"
    }
   ],
   "source": [
    "from sklearn.preprocessing import MinMaxScaler\n",
    "\n",
    "scaler = MinMaxScaler()\n",
    "dance_pop_artistas[['pop_norm', 'followers_norm']] = scaler.fit_transform(\n",
    "    dance_pop_artistas[['artist_popularity', 'followers']])\n",
    "\n",
    "dance_pop_artistas['final_score'] = (dance_pop_artistas['pop_norm'] + dance_pop_artistas['followers_norm']) / 2\n",
    "\n",
    "ranking_final = dance_pop_artistas.groupby('name_y')['final_score'].mean().reset_index()\n",
    "\n",
    "ranking_final = ranking_final.sort_values(by='final_score', ascending=False)\n",
    "\n",
    "fig = px.bar(\n",
    "    ranking_final.head(10),\n",
    "    x='name_y',\n",
    "    y='final_score',\n",
    "    title='Top 10 Artistas (Popularidade + Seguidores)',\n",
    "    labels={'name_y': 'Artista', 'final_score': 'Pontuação Final'},)\n",
    "\n",
    "fig.update_layout(template='plotly_white')\n",
    "\n",
    "fig.show()"
   ]
  }
 ],
 "metadata": {
  "kernelspec": {
   "display_name": "venv",
   "language": "python",
   "name": "python3"
  },
  "language_info": {
   "codemirror_mode": {
    "name": "ipython",
    "version": 3
   },
   "file_extension": ".py",
   "mimetype": "text/x-python",
   "name": "python",
   "nbconvert_exporter": "python",
   "pygments_lexer": "ipython3",
   "version": "3.10.6"
  }
 },
 "nbformat": 4,
 "nbformat_minor": 5
}
