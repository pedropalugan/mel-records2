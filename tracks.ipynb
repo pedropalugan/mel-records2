{
 "cells": [
  {
   "cell_type": "code",
   "execution_count": 1,
   "id": "52a1750c",
   "metadata": {},
   "outputs": [],
   "source": [
    "import pandas as pd\n",
    "import matplotlib.pyplot as plt\n",
    "import numpy as np\n",
    "db_tracks = pd.read_csv('spotify_tracks.csv')"
   ]
  },
  {
   "cell_type": "markdown",
   "id": "963af220",
   "metadata": {},
   "source": [
    "##Descricao da base de dados"
   ]
  },
  {
   "cell_type": "code",
   "execution_count": 2,
   "id": "5716abb2",
   "metadata": {},
   "outputs": [
    {
     "data": {
      "text/html": [
       "<div>\n",
       "<style scoped>\n",
       "    .dataframe tbody tr th:only-of-type {\n",
       "        vertical-align: middle;\n",
       "    }\n",
       "\n",
       "    .dataframe tbody tr th {\n",
       "        vertical-align: top;\n",
       "    }\n",
       "\n",
       "    .dataframe thead th {\n",
       "        text-align: right;\n",
       "    }\n",
       "</style>\n",
       "<table border=\"1\" class=\"dataframe\">\n",
       "  <thead>\n",
       "    <tr style=\"text-align: right;\">\n",
       "      <th></th>\n",
       "      <th>Unnamed: 0</th>\n",
       "      <th>popularity</th>\n",
       "    </tr>\n",
       "  </thead>\n",
       "  <tbody>\n",
       "    <tr>\n",
       "      <th>count</th>\n",
       "      <td>101939.000000</td>\n",
       "      <td>101939.000000</td>\n",
       "    </tr>\n",
       "    <tr>\n",
       "      <th>mean</th>\n",
       "      <td>50969.000000</td>\n",
       "      <td>39.782311</td>\n",
       "    </tr>\n",
       "    <tr>\n",
       "      <th>std</th>\n",
       "      <td>29427.398883</td>\n",
       "      <td>16.790769</td>\n",
       "    </tr>\n",
       "    <tr>\n",
       "      <th>min</th>\n",
       "      <td>0.000000</td>\n",
       "      <td>0.000000</td>\n",
       "    </tr>\n",
       "    <tr>\n",
       "      <th>25%</th>\n",
       "      <td>25484.500000</td>\n",
       "      <td>29.000000</td>\n",
       "    </tr>\n",
       "    <tr>\n",
       "      <th>50%</th>\n",
       "      <td>50969.000000</td>\n",
       "      <td>41.000000</td>\n",
       "    </tr>\n",
       "    <tr>\n",
       "      <th>75%</th>\n",
       "      <td>76453.500000</td>\n",
       "      <td>52.000000</td>\n",
       "    </tr>\n",
       "    <tr>\n",
       "      <th>max</th>\n",
       "      <td>101938.000000</td>\n",
       "      <td>97.000000</td>\n",
       "    </tr>\n",
       "  </tbody>\n",
       "</table>\n",
       "</div>"
      ],
      "text/plain": [
       "          Unnamed: 0     popularity\n",
       "count  101939.000000  101939.000000\n",
       "mean    50969.000000      39.782311\n",
       "std     29427.398883      16.790769\n",
       "min         0.000000       0.000000\n",
       "25%     25484.500000      29.000000\n",
       "50%     50969.000000      41.000000\n",
       "75%     76453.500000      52.000000\n",
       "max    101938.000000      97.000000"
      ]
     },
     "execution_count": 2,
     "metadata": {},
     "output_type": "execute_result"
    }
   ],
   "source": [
    "db_tracks.describe()"
   ]
  },
  {
   "cell_type": "markdown",
   "id": "affe4275",
   "metadata": {},
   "source": [
    "##Verifcando valores nulos "
   ]
  },
  {
   "cell_type": "code",
   "execution_count": 3,
   "id": "d29c6463",
   "metadata": {},
   "outputs": [
    {
     "data": {
      "text/plain": [
       "Unnamed: 0           0\n",
       "album_id             0\n",
       "analysis_url         0\n",
       "artists_id           0\n",
       "available_markets    0\n",
       "href                 0\n",
       "name                 0\n",
       "playlist             0\n",
       "popularity           0\n",
       "preview_url          0\n",
       "dtype: int64"
      ]
     },
     "execution_count": 3,
     "metadata": {},
     "output_type": "execute_result"
    }
   ],
   "source": [
    "db_tracks.isnull().sum()"
   ]
  },
  {
   "cell_type": "markdown",
   "id": "58f8b3db",
   "metadata": {},
   "source": [
    "##Deletando colunas"
   ]
  },
  {
   "cell_type": "code",
   "execution_count": 4,
   "id": "eeaab5bb",
   "metadata": {},
   "outputs": [
    {
     "data": {
      "text/html": [
       "<div>\n",
       "<style scoped>\n",
       "    .dataframe tbody tr th:only-of-type {\n",
       "        vertical-align: middle;\n",
       "    }\n",
       "\n",
       "    .dataframe tbody tr th {\n",
       "        vertical-align: top;\n",
       "    }\n",
       "\n",
       "    .dataframe thead th {\n",
       "        text-align: right;\n",
       "    }\n",
       "</style>\n",
       "<table border=\"1\" class=\"dataframe\">\n",
       "  <thead>\n",
       "    <tr style=\"text-align: right;\">\n",
       "      <th></th>\n",
       "      <th>album_id</th>\n",
       "      <th>artists_id</th>\n",
       "      <th>available_markets</th>\n",
       "      <th>name</th>\n",
       "      <th>playlist</th>\n",
       "      <th>popularity</th>\n",
       "    </tr>\n",
       "  </thead>\n",
       "  <tbody>\n",
       "    <tr>\n",
       "      <th>0</th>\n",
       "      <td>0D3QufeCudpQANOR7luqdr</td>\n",
       "      <td>['3mxJuHRn2ZWD5OofvJtDZY']</td>\n",
       "      <td>['AD', 'AE', 'AR', 'AT', 'AU', 'BE', 'BG', 'BH...</td>\n",
       "      <td>Blood</td>\n",
       "      <td>Hipsteribrunssi</td>\n",
       "      <td>28.0</td>\n",
       "    </tr>\n",
       "    <tr>\n",
       "      <th>1</th>\n",
       "      <td>1bcqsH5UyTBzmh9YizdsBE</td>\n",
       "      <td>['4xWMewm6CYMstu0sPgd9jJ']</td>\n",
       "      <td>['AD', 'AE', 'AR', 'AT', 'AU', 'BE', 'BG', 'BH...</td>\n",
       "      <td>The Ugly Duckling</td>\n",
       "      <td>Animal Stories</td>\n",
       "      <td>31.0</td>\n",
       "    </tr>\n",
       "    <tr>\n",
       "      <th>2</th>\n",
       "      <td>4tKijjmxGClg4JOLAyo2qE</td>\n",
       "      <td>['3hYaK5FF3YAglCj5HZgBnP']</td>\n",
       "      <td>['GB']</td>\n",
       "      <td>Jimmy Launches His Own Range Of Greetings Cards</td>\n",
       "      <td>Best Of British Comedy</td>\n",
       "      <td>31.0</td>\n",
       "    </tr>\n",
       "    <tr>\n",
       "      <th>3</th>\n",
       "      <td>6FeJF5r8roonnKraJxr4oB</td>\n",
       "      <td>['2KQsUB9DRBcJk17JWX1eXD']</td>\n",
       "      <td>['AD', 'AE', 'AR', 'AT', 'AU', 'BE', 'BG', 'BH...</td>\n",
       "      <td>The Crime At Pickets Mill</td>\n",
       "      <td>Short Stories</td>\n",
       "      <td>14.0</td>\n",
       "    </tr>\n",
       "    <tr>\n",
       "      <th>4</th>\n",
       "      <td>4tKijjmxGClg4JOLAyo2qE</td>\n",
       "      <td>['3hYaK5FF3YAglCj5HZgBnP']</td>\n",
       "      <td>['GB']</td>\n",
       "      <td>Setup + Punchline = Joke</td>\n",
       "      <td>Best Of British Comedy</td>\n",
       "      <td>32.0</td>\n",
       "    </tr>\n",
       "    <tr>\n",
       "      <th>...</th>\n",
       "      <td>...</td>\n",
       "      <td>...</td>\n",
       "      <td>...</td>\n",
       "      <td>...</td>\n",
       "      <td>...</td>\n",
       "      <td>...</td>\n",
       "    </tr>\n",
       "    <tr>\n",
       "      <th>101934</th>\n",
       "      <td>1M9n4vCmOH4lbcHrpt21Qy</td>\n",
       "      <td>['6n3YUZcayLRuAunJUUelvz']</td>\n",
       "      <td>['AU', 'NZ']</td>\n",
       "      <td>Black Bugs</td>\n",
       "      <td>Aussie Alternative Classics</td>\n",
       "      <td>41.0</td>\n",
       "    </tr>\n",
       "    <tr>\n",
       "      <th>101935</th>\n",
       "      <td>511p6iaCuK8Sr0BYdpcfkq</td>\n",
       "      <td>['4iudEcmuPlYNdbP3e1bdn1']</td>\n",
       "      <td>['AD', 'AE', 'AR', 'AT', 'AU', 'BE', 'BG', 'BH...</td>\n",
       "      <td>The Door</td>\n",
       "      <td>Aussie Alternative Classics</td>\n",
       "      <td>44.0</td>\n",
       "    </tr>\n",
       "    <tr>\n",
       "      <th>101936</th>\n",
       "      <td>511p6iaCuK8Sr0BYdpcfkq</td>\n",
       "      <td>['4iudEcmuPlYNdbP3e1bdn1']</td>\n",
       "      <td>['AD', 'AE', 'AR', 'AT', 'AU', 'BE', 'BG', 'BH...</td>\n",
       "      <td>Freak</td>\n",
       "      <td>Aussie Alternative Classics</td>\n",
       "      <td>59.0</td>\n",
       "    </tr>\n",
       "    <tr>\n",
       "      <th>101937</th>\n",
       "      <td>7H3Bgvb3hs4vvLwccHDRlr</td>\n",
       "      <td>['023YMawCG3OvACmRjWxLWC']</td>\n",
       "      <td>['AD', 'AE', 'AR', 'AT', 'AU', 'BE', 'BG', 'BH...</td>\n",
       "      <td>Hello</td>\n",
       "      <td>Aussie Alternative Classics</td>\n",
       "      <td>55.0</td>\n",
       "    </tr>\n",
       "    <tr>\n",
       "      <th>101938</th>\n",
       "      <td>3oieBBYbUOve0VpxTCpHr1</td>\n",
       "      <td>['6OgAO7QYncP5feMijPxBxi']</td>\n",
       "      <td>['AD', 'AE', 'AR', 'AT', 'AU', 'BE', 'BG', 'BH...</td>\n",
       "      <td>Plastic Loveless Letter</td>\n",
       "      <td>Aussie Alternative Classics</td>\n",
       "      <td>33.0</td>\n",
       "    </tr>\n",
       "  </tbody>\n",
       "</table>\n",
       "<p>101939 rows × 6 columns</p>\n",
       "</div>"
      ],
      "text/plain": [
       "                      album_id                  artists_id  \\\n",
       "0       0D3QufeCudpQANOR7luqdr  ['3mxJuHRn2ZWD5OofvJtDZY']   \n",
       "1       1bcqsH5UyTBzmh9YizdsBE  ['4xWMewm6CYMstu0sPgd9jJ']   \n",
       "2       4tKijjmxGClg4JOLAyo2qE  ['3hYaK5FF3YAglCj5HZgBnP']   \n",
       "3       6FeJF5r8roonnKraJxr4oB  ['2KQsUB9DRBcJk17JWX1eXD']   \n",
       "4       4tKijjmxGClg4JOLAyo2qE  ['3hYaK5FF3YAglCj5HZgBnP']   \n",
       "...                        ...                         ...   \n",
       "101934  1M9n4vCmOH4lbcHrpt21Qy  ['6n3YUZcayLRuAunJUUelvz']   \n",
       "101935  511p6iaCuK8Sr0BYdpcfkq  ['4iudEcmuPlYNdbP3e1bdn1']   \n",
       "101936  511p6iaCuK8Sr0BYdpcfkq  ['4iudEcmuPlYNdbP3e1bdn1']   \n",
       "101937  7H3Bgvb3hs4vvLwccHDRlr  ['023YMawCG3OvACmRjWxLWC']   \n",
       "101938  3oieBBYbUOve0VpxTCpHr1  ['6OgAO7QYncP5feMijPxBxi']   \n",
       "\n",
       "                                        available_markets  \\\n",
       "0       ['AD', 'AE', 'AR', 'AT', 'AU', 'BE', 'BG', 'BH...   \n",
       "1       ['AD', 'AE', 'AR', 'AT', 'AU', 'BE', 'BG', 'BH...   \n",
       "2                                                  ['GB']   \n",
       "3       ['AD', 'AE', 'AR', 'AT', 'AU', 'BE', 'BG', 'BH...   \n",
       "4                                                  ['GB']   \n",
       "...                                                   ...   \n",
       "101934                                       ['AU', 'NZ']   \n",
       "101935  ['AD', 'AE', 'AR', 'AT', 'AU', 'BE', 'BG', 'BH...   \n",
       "101936  ['AD', 'AE', 'AR', 'AT', 'AU', 'BE', 'BG', 'BH...   \n",
       "101937  ['AD', 'AE', 'AR', 'AT', 'AU', 'BE', 'BG', 'BH...   \n",
       "101938  ['AD', 'AE', 'AR', 'AT', 'AU', 'BE', 'BG', 'BH...   \n",
       "\n",
       "                                                   name  \\\n",
       "0                                                 Blood   \n",
       "1                                     The Ugly Duckling   \n",
       "2       Jimmy Launches His Own Range Of Greetings Cards   \n",
       "3                             The Crime At Pickets Mill   \n",
       "4                              Setup + Punchline = Joke   \n",
       "...                                                 ...   \n",
       "101934                                       Black Bugs   \n",
       "101935                                         The Door   \n",
       "101936                                            Freak   \n",
       "101937                                            Hello   \n",
       "101938                          Plastic Loveless Letter   \n",
       "\n",
       "                           playlist  popularity  \n",
       "0                   Hipsteribrunssi        28.0  \n",
       "1                    Animal Stories        31.0  \n",
       "2            Best Of British Comedy        31.0  \n",
       "3                     Short Stories        14.0  \n",
       "4            Best Of British Comedy        32.0  \n",
       "...                             ...         ...  \n",
       "101934  Aussie Alternative Classics        41.0  \n",
       "101935  Aussie Alternative Classics        44.0  \n",
       "101936  Aussie Alternative Classics        59.0  \n",
       "101937  Aussie Alternative Classics        55.0  \n",
       "101938  Aussie Alternative Classics        33.0  \n",
       "\n",
       "[101939 rows x 6 columns]"
      ]
     },
     "execution_count": 4,
     "metadata": {},
     "output_type": "execute_result"
    }
   ],
   "source": [
    "db_tracks_backup = db_tracks\n",
    "db_tracks.drop(['Unnamed: 0','analysis_url', 'href', 'preview_url'], axis=1, inplace=True)\n",
    "db_tracks"
   ]
  },
  {
   "cell_type": "markdown",
   "id": "0270402d",
   "metadata": {},
   "source": [
    "##Qtd de musica por popularidade"
   ]
  },
  {
   "cell_type": "code",
   "execution_count": 5,
   "id": "bf397c88",
   "metadata": {},
   "outputs": [
    {
     "data": {
      "image/png": "[encoded data removed]",
      "text/plain": [
       "<Figure size 640x480 with 1 Axes>"
      ]
     },
     "metadata": {},
     "output_type": "display_data"
    }
   ],
   "source": [
    "plt.hist(db_tracks['popularity'])\n",
    "plt.title('Musica por popularidade')\n",
    "plt.ylabel('Frequência')\n",
    "plt.show()"
   ]
  }
 ],
 "metadata": {
  "kernelspec": {
   "display_name": "venv",
   "language": "python",
   "name": "python3"
  },
  "language_info": {
   "codemirror_mode": {
    "name": "ipython",
    "version": 3
   },
   "file_extension": ".py",
   "mimetype": "text/x-python",
   "name": "python",
   "nbconvert_exporter": "python",
   "pygments_lexer": "ipython3",
   "version": "3.10.6"
  }
 },
 "nbformat": 4,
 "nbformat_minor": 5
}
